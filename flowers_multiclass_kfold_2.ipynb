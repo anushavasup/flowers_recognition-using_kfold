{
  "nbformat": 4,
  "nbformat_minor": 0,
  "metadata": {
    "colab": {
      "name": "flowers_multiclass_kfold_2.ipynb",
      "provenance": [],
      "collapsed_sections": [],
      "authorship_tag": "ABX9TyOYHfdOyfv+ZWMd6ryWnXfY",
      "include_colab_link": true
    },
    "kernelspec": {
      "name": "python3",
      "display_name": "Python 3"
    },
    "language_info": {
      "name": "python"
    }
  },
  "cells": [
    {
      "cell_type": "markdown",
      "metadata": {
        "id": "view-in-github",
        "colab_type": "text"
      },
      "source": [
        "<a href=\"https://colab.research.google.com/github/anushavasup/flowers_recognition-using_kfold/blob/main/flowers_multiclass_kfold_2.ipynb\" target=\"_parent\"><img src=\"https://colab.research.google.com/assets/colab-badge.svg\" alt=\"Open In Colab\"/></a>"
      ]
    },
    {
      "cell_type": "code",
      "metadata": {
        "colab": {
          "base_uri": "https://localhost:8080/"
        },
        "id": "4ICbtL0fvy4g",
        "outputId": "778099a6-e550-42a1-d7ae-963e0b25d808"
      },
      "source": [
        "from google.colab import drive\n",
        "drive.mount('/content/drive/')"
      ],
      "execution_count": 1,
      "outputs": [
        {
          "output_type": "stream",
          "text": [
            "Mounted at /content/drive/\n"
          ],
          "name": "stdout"
        }
      ]
    },
    {
      "cell_type": "code",
      "metadata": {
        "colab": {
          "base_uri": "https://localhost:8080/"
        },
        "id": "guhIHyXsv_IH",
        "outputId": "e2ea2945-7f91-4b90-eeeb-a0c81c473211"
      },
      "source": [
        "from zipfile import ZipFile\n",
        "file_name = '/content/drive/MyDrive/flowers.zip'\n",
        "with ZipFile(file_name, 'r') as zip:\n",
        "  zip.extractall()\n",
        "  print('Done')"
      ],
      "execution_count": 3,
      "outputs": [
        {
          "output_type": "stream",
          "text": [
            "Done\n"
          ],
          "name": "stdout"
        }
      ]
    },
    {
      "cell_type": "code",
      "metadata": {
        "id": "qozqyE8kwc8i"
      },
      "source": [
        "import numpy as np \n",
        "import pandas as pd \n",
        "import os\n",
        "import matplotlib.pyplot as plt\n",
        "import cv2\n",
        "from tensorflow.keras.utils import to_categorical\n",
        "from keras.layers import Dense,Conv2D,Flatten,MaxPool2D,Dropout\n",
        "from keras.models import Sequential\n",
        "from sklearn.model_selection import train_test_split\n",
        "import tensorflow as tf\n"
      ],
      "execution_count": 4,
      "outputs": []
    },
    {
      "cell_type": "code",
      "metadata": {
        "id": "W7jMSFpQw7av"
      },
      "source": [
        "import glob \n",
        "import cv2\n",
        "from skimage.transform import resize\n",
        "folders=['daisy','dandelion','rose','sunflower','tulip']\n",
        "X=[]#feature dataset\n",
        "y=[]#target data set\n",
        "#loop through everyfolder\n",
        "for folder in folders:\n",
        "  path='/content/flowers/'+folder+'/*.jpg'\n",
        "  files=glob.glob(path)\n",
        "  for myfile in files:\n",
        "    image=cv2.imread(myfile)\n",
        "    image=cv2.cvtColor(image,cv2.COLOR_BGR2RGB)\n",
        "    image=resize(image,(32,32,3))\n",
        "    X.append(image)\n",
        "    y.append(folder)\n",
        "    "
      ],
      "execution_count": 5,
      "outputs": []
    },
    {
      "cell_type": "code",
      "metadata": {
        "colab": {
          "base_uri": "https://localhost:8080/"
        },
        "id": "5BzCz9jgPy9c",
        "outputId": "f4e4e36e-d815-478a-892b-c3f7067e149a"
      },
      "source": [
        "len(y)"
      ],
      "execution_count": null,
      "outputs": [
        {
          "output_type": "execute_result",
          "data": {
            "text/plain": [
              "4317"
            ]
          },
          "metadata": {
            "tags": []
          },
          "execution_count": 8
        }
      ]
    },
    {
      "cell_type": "code",
      "metadata": {
        "id": "YKf2a5KxyP1g"
      },
      "source": [
        "from sklearn.model_selection import train_test_split\n",
        "X_train,X_test,y_train,y_test=train_test_split(X,y,test_size=0.2,random_state=42)"
      ],
      "execution_count": 6,
      "outputs": []
    },
    {
      "cell_type": "code",
      "metadata": {
        "colab": {
          "base_uri": "https://localhost:8080/"
        },
        "id": "l_bfrE4qz_fJ",
        "outputId": "d24d517d-ecb6-4070-f9b0-33ad238f3d99"
      },
      "source": [
        "from sklearn.preprocessing import LabelEncoder\n",
        "y_train=LabelEncoder().fit_transform(y_train)\n",
        "y_test=LabelEncoder().fit_transform(y_test)\n",
        "print(y_train)\n"
      ],
      "execution_count": 7,
      "outputs": [
        {
          "output_type": "stream",
          "text": [
            "[0 4 4 ... 3 4 1]\n"
          ],
          "name": "stdout"
        }
      ]
    },
    {
      "cell_type": "code",
      "metadata": {
        "colab": {
          "base_uri": "https://localhost:8080/"
        },
        "id": "wMmuy7As0Dw3",
        "outputId": "5379bd22-ff85-4246-f6ca-7ac87aa3bd2b"
      },
      "source": [
        "from tensorflow.keras.utils import to_categorical\n",
        "from tensorflow.keras import layers\n",
        "y_train_one_hot=to_categorical(y_train)\n",
        "y_test_one_hot=to_categorical(y_test)\n",
        "normalization_layer = layers.experimental.preprocessing.Rescaling(1./255)\n",
        "X_train1=np.array(X_train)\n",
        "X_test1=np.array(X_test)\n",
        "print(type(X_test1))\n",
        "print(np.max(X_test1[3]))"
      ],
      "execution_count": 8,
      "outputs": [
        {
          "output_type": "stream",
          "text": [
            "<class 'numpy.ndarray'>\n",
            "0.9921568627450981\n"
          ],
          "name": "stdout"
        }
      ]
    },
    {
      "cell_type": "code",
      "metadata": {
        "colab": {
          "base_uri": "https://localhost:8080/"
        },
        "id": "-6v8uO-_wF6K",
        "outputId": "1030ceb1-68dd-48df-ca0c-f9a47f99a773"
      },
      "source": [
        "from sklearn.model_selection import KFold\n",
        "num_folds = 4\n",
        "verbosity = 1\n",
        "\n",
        "# Normalize data\n",
        "#input_train = input_train / 255\n",
        "#input_test = input_test / 255\n",
        "# Parse numbers as floats\n",
        "#X_train1 = X_train1.astype('float32')\n",
        "#X_test1 = X_test1.astype('float32')\n",
        "# Define per-fold score containers <-- these are new\n",
        "acc_per_fold = []\n",
        "loss_per_fold = []\n",
        "#inputs = np.concatenate((X_train1, X_test1), axis=0)\n",
        "#targets = np.concatenate((y_train_one_hot, y_test_one_hot), axis=0)\n",
        "inputs=X_train1\n",
        "targets=y_train_one_hot\n",
        "# Define the K-fold Cross Validator\n",
        "kfold = KFold(n_splits=num_folds, shuffle=True)\n",
        "fold_no = 1\n",
        "for train, test in kfold.split(inputs, targets):\n",
        "  import keras\n",
        "\n",
        "# Creating a Sequential model\n",
        "  model_flower= Sequential()\n",
        "#model.add(data_augmentation)\n",
        "  model_flower.add(Conv2D(kernel_size=(3,3), filters=32, activation='relu', input_shape=(32,32,3)))\n",
        "  model_flower.add(Dropout(0.2))\n",
        "\n",
        "  model_flower.add(Conv2D(filters=30,kernel_size = (3,3),activation='relu'))\n",
        "  model_flower.add(MaxPool2D(2,2))\n",
        "  model_flower.add(Dropout(0.2))\n",
        "\n",
        "  model_flower.add(Conv2D(filters=30,kernel_size = (3,3),activation='relu'))\n",
        "  model_flower.add(MaxPool2D(2,2))\n",
        "  model_flower.add(Dropout(0.2))\n",
        "\n",
        "  model_flower.add(Conv2D(filters=30,kernel_size = (3,3),activation='relu'))\n",
        "  model_flower.add(Dropout(0.2))\n",
        "\n",
        "  model_flower.add(Flatten())\n",
        "\n",
        "  model_flower.add(Dense(1024,activation='tanh'))\n",
        "  model_flower.add(Dropout(0.2))\n",
        "  model_flower.add(Dense(512,activation='tanh'))\n",
        "#model_flower.add(Dense(32,activation='relu'))\n",
        "\n",
        "  model_flower.add(Dense(5,activation = 'softmax'))\n",
        "\n",
        "#optimizer = keras.optimizers.Adam(lr=0.1)   \n",
        "  model_flower.compile(\n",
        "              loss='categorical_crossentropy', \n",
        "              metrics=['acc'],\n",
        "              optimizer='adam',\n",
        "              \n",
        "             )\n",
        "  # Generate a print\n",
        "  print('------------------------------------------------------------------------')\n",
        "  print(f'Training for fold {fold_no} ...')\n",
        "\n",
        "  # Fit data to model\n",
        "  # Training the model\n",
        "  history = model_flower.fit(inputs[train], targets[train],epochs=50,batch_size=50,verbose=verbosity,validation_split=0.3)\n",
        "\n",
        "  # Generate generalization metrics\n",
        "  scores = model_flower.evaluate(inputs[test], targets[test], verbose=0)\n",
        "  print(f'Score for fold {fold_no}: {model_flower.metrics_names[0]} of {scores[0]}; {model_flower.metrics_names[1]} of {scores[1]*100}%')\n",
        "  acc_per_fold.append(scores[1] * 100)\n",
        "  loss_per_fold.append(scores[0])\n",
        "\n",
        "  # Increase fold number\n",
        "  fold_no = fold_no + 1\n",
        "# == Provide average scores ==\n",
        "print('------------------------------------------------------------------------')\n",
        "print('Score per fold')\n",
        "for i in range(0, len(acc_per_fold)):\n",
        "  print('------------------------------------------------------------------------')\n",
        "  print(f'> Fold {i+1} - Loss: {loss_per_fold[i]} - Accuracy: {acc_per_fold[i]}%')\n",
        "print('------------------------------------------------------------------------')\n",
        "print('Average scores for all folds:')\n",
        "print(f'> Accuracy: {np.mean(acc_per_fold)} (+- {np.std(acc_per_fold)})')\n",
        "print(f'> Loss: {np.mean(loss_per_fold)}')\n",
        "print('------------------------------------------------------------------------')\n",
        "\n",
        "\n",
        "\n"
      ],
      "execution_count": 9,
      "outputs": [
        {
          "output_type": "stream",
          "text": [
            "------------------------------------------------------------------------\n",
            "Training for fold 1 ...\n",
            "Epoch 1/50\n",
            "37/37 [==============================] - 23s 195ms/step - loss: 1.6116 - acc: 0.2761 - val_loss: 1.3486 - val_acc: 0.4093\n",
            "Epoch 2/50\n",
            "37/37 [==============================] - 6s 171ms/step - loss: 1.2935 - acc: 0.4247 - val_loss: 1.3626 - val_acc: 0.4003\n",
            "Epoch 3/50\n",
            "37/37 [==============================] - 6s 171ms/step - loss: 1.2268 - acc: 0.4797 - val_loss: 1.2809 - val_acc: 0.4633\n",
            "Epoch 4/50\n",
            "37/37 [==============================] - 6s 171ms/step - loss: 1.2041 - acc: 0.4730 - val_loss: 1.2332 - val_acc: 0.4453\n",
            "Epoch 5/50\n",
            "37/37 [==============================] - 6s 170ms/step - loss: 1.1477 - acc: 0.5121 - val_loss: 1.1743 - val_acc: 0.5058\n",
            "Epoch 6/50\n",
            "37/37 [==============================] - 6s 171ms/step - loss: 1.1193 - acc: 0.5494 - val_loss: 1.1779 - val_acc: 0.4852\n",
            "Epoch 7/50\n",
            "37/37 [==============================] - 6s 171ms/step - loss: 1.0726 - acc: 0.5673 - val_loss: 1.1483 - val_acc: 0.4955\n",
            "Epoch 8/50\n",
            "37/37 [==============================] - 6s 172ms/step - loss: 1.0069 - acc: 0.5933 - val_loss: 1.2002 - val_acc: 0.4955\n",
            "Epoch 9/50\n",
            "37/37 [==============================] - 6s 172ms/step - loss: 0.9745 - acc: 0.6229 - val_loss: 1.0693 - val_acc: 0.5843\n",
            "Epoch 10/50\n",
            "37/37 [==============================] - 6s 171ms/step - loss: 0.9761 - acc: 0.6164 - val_loss: 1.0007 - val_acc: 0.6152\n",
            "Epoch 11/50\n",
            "37/37 [==============================] - 6s 173ms/step - loss: 0.9544 - acc: 0.6318 - val_loss: 1.0411 - val_acc: 0.5714\n",
            "Epoch 12/50\n",
            "37/37 [==============================] - 6s 171ms/step - loss: 0.9165 - acc: 0.6501 - val_loss: 1.0469 - val_acc: 0.5701\n",
            "Epoch 13/50\n",
            "37/37 [==============================] - 6s 172ms/step - loss: 0.8196 - acc: 0.6767 - val_loss: 1.0010 - val_acc: 0.5997\n",
            "Epoch 14/50\n",
            "37/37 [==============================] - 6s 172ms/step - loss: 0.8150 - acc: 0.6940 - val_loss: 1.0339 - val_acc: 0.5804\n",
            "Epoch 15/50\n",
            "37/37 [==============================] - 6s 171ms/step - loss: 0.7989 - acc: 0.6766 - val_loss: 1.0039 - val_acc: 0.5907\n",
            "Epoch 16/50\n",
            "37/37 [==============================] - 6s 174ms/step - loss: 0.7437 - acc: 0.7068 - val_loss: 0.9710 - val_acc: 0.6152\n",
            "Epoch 17/50\n",
            "37/37 [==============================] - 6s 173ms/step - loss: 0.7822 - acc: 0.7075 - val_loss: 1.0837 - val_acc: 0.5792\n",
            "Epoch 18/50\n",
            "37/37 [==============================] - 6s 173ms/step - loss: 0.7066 - acc: 0.7240 - val_loss: 1.1522 - val_acc: 0.5483\n",
            "Epoch 19/50\n",
            "37/37 [==============================] - 6s 174ms/step - loss: 0.7548 - acc: 0.6989 - val_loss: 1.0998 - val_acc: 0.6010\n",
            "Epoch 20/50\n",
            "37/37 [==============================] - 6s 172ms/step - loss: 0.6791 - acc: 0.7171 - val_loss: 1.0071 - val_acc: 0.6293\n",
            "Epoch 21/50\n",
            "37/37 [==============================] - 6s 173ms/step - loss: 0.6787 - acc: 0.7199 - val_loss: 1.0495 - val_acc: 0.6229\n",
            "Epoch 22/50\n",
            "37/37 [==============================] - 6s 173ms/step - loss: 0.6376 - acc: 0.7449 - val_loss: 1.1892 - val_acc: 0.5611\n",
            "Epoch 23/50\n",
            "37/37 [==============================] - 6s 171ms/step - loss: 0.7333 - acc: 0.7033 - val_loss: 1.0663 - val_acc: 0.6113\n",
            "Epoch 24/50\n",
            "37/37 [==============================] - 6s 172ms/step - loss: 0.6664 - acc: 0.7354 - val_loss: 1.0969 - val_acc: 0.6229\n",
            "Epoch 25/50\n",
            "37/37 [==============================] - 6s 171ms/step - loss: 0.6182 - acc: 0.7749 - val_loss: 1.1000 - val_acc: 0.6113\n",
            "Epoch 26/50\n",
            "37/37 [==============================] - 6s 171ms/step - loss: 0.6018 - acc: 0.7631 - val_loss: 1.1241 - val_acc: 0.6100\n",
            "Epoch 27/50\n",
            "37/37 [==============================] - 6s 170ms/step - loss: 0.6076 - acc: 0.7448 - val_loss: 1.0247 - val_acc: 0.5920\n",
            "Epoch 28/50\n",
            "37/37 [==============================] - 6s 171ms/step - loss: 0.6360 - acc: 0.7467 - val_loss: 1.1300 - val_acc: 0.5997\n",
            "Epoch 29/50\n",
            "37/37 [==============================] - 6s 172ms/step - loss: 0.6102 - acc: 0.7618 - val_loss: 1.1435 - val_acc: 0.6139\n",
            "Epoch 30/50\n",
            "37/37 [==============================] - 6s 171ms/step - loss: 0.6019 - acc: 0.7659 - val_loss: 1.2417 - val_acc: 0.5701\n",
            "Epoch 31/50\n",
            "37/37 [==============================] - 6s 173ms/step - loss: 0.5493 - acc: 0.7777 - val_loss: 1.1635 - val_acc: 0.6075\n",
            "Epoch 32/50\n",
            "37/37 [==============================] - 6s 172ms/step - loss: 0.5132 - acc: 0.7973 - val_loss: 1.1295 - val_acc: 0.6165\n",
            "Epoch 33/50\n",
            "37/37 [==============================] - 6s 170ms/step - loss: 0.5010 - acc: 0.8129 - val_loss: 1.1244 - val_acc: 0.6229\n",
            "Epoch 34/50\n",
            "37/37 [==============================] - 6s 173ms/step - loss: 0.4512 - acc: 0.8145 - val_loss: 1.0548 - val_acc: 0.6190\n",
            "Epoch 35/50\n",
            "37/37 [==============================] - 6s 172ms/step - loss: 0.4815 - acc: 0.8148 - val_loss: 1.3390 - val_acc: 0.6152\n",
            "Epoch 36/50\n",
            "37/37 [==============================] - 6s 172ms/step - loss: 0.5790 - acc: 0.7686 - val_loss: 1.0947 - val_acc: 0.6332\n",
            "Epoch 37/50\n",
            "37/37 [==============================] - 6s 171ms/step - loss: 0.4658 - acc: 0.8153 - val_loss: 1.1002 - val_acc: 0.6345\n",
            "Epoch 38/50\n",
            "37/37 [==============================] - 6s 171ms/step - loss: 0.5010 - acc: 0.7966 - val_loss: 1.1066 - val_acc: 0.6293\n",
            "Epoch 39/50\n",
            "37/37 [==============================] - 6s 171ms/step - loss: 0.4624 - acc: 0.8281 - val_loss: 1.3477 - val_acc: 0.6178\n",
            "Epoch 40/50\n",
            "37/37 [==============================] - 6s 172ms/step - loss: 0.5443 - acc: 0.7972 - val_loss: 1.1547 - val_acc: 0.6306\n",
            "Epoch 41/50\n",
            "37/37 [==============================] - 6s 172ms/step - loss: 0.4504 - acc: 0.8210 - val_loss: 1.2349 - val_acc: 0.6165\n",
            "Epoch 42/50\n",
            "37/37 [==============================] - 6s 172ms/step - loss: 0.4531 - acc: 0.8215 - val_loss: 1.1947 - val_acc: 0.6306\n",
            "Epoch 43/50\n",
            "37/37 [==============================] - 6s 172ms/step - loss: 0.4396 - acc: 0.8266 - val_loss: 1.1674 - val_acc: 0.6242\n",
            "Epoch 44/50\n",
            "37/37 [==============================] - 6s 172ms/step - loss: 0.4627 - acc: 0.8151 - val_loss: 1.1137 - val_acc: 0.6384\n",
            "Epoch 45/50\n",
            "37/37 [==============================] - 6s 172ms/step - loss: 0.4047 - acc: 0.8399 - val_loss: 1.2588 - val_acc: 0.6293\n",
            "Epoch 46/50\n",
            "37/37 [==============================] - 6s 172ms/step - loss: 0.4117 - acc: 0.8438 - val_loss: 1.3155 - val_acc: 0.6088\n",
            "Epoch 47/50\n",
            "37/37 [==============================] - 6s 173ms/step - loss: 0.3769 - acc: 0.8645 - val_loss: 1.1902 - val_acc: 0.6332\n",
            "Epoch 48/50\n",
            "37/37 [==============================] - 6s 173ms/step - loss: 0.4476 - acc: 0.8205 - val_loss: 1.2646 - val_acc: 0.6332\n",
            "Epoch 49/50\n",
            "37/37 [==============================] - 6s 172ms/step - loss: 0.4029 - acc: 0.8489 - val_loss: 1.1830 - val_acc: 0.6165\n",
            "Epoch 50/50\n",
            "37/37 [==============================] - 6s 173ms/step - loss: 0.4537 - acc: 0.8218 - val_loss: 1.1846 - val_acc: 0.6165\n",
            "Score for fold 1: loss of 1.1648914813995361; acc of 63.19444179534912%\n",
            "------------------------------------------------------------------------\n",
            "Training for fold 2 ...\n",
            "Epoch 1/50\n",
            "37/37 [==============================] - 8s 184ms/step - loss: 1.6101 - acc: 0.2793 - val_loss: 1.4000 - val_acc: 0.3535\n",
            "Epoch 2/50\n",
            "37/37 [==============================] - 6s 170ms/step - loss: 1.3576 - acc: 0.4015 - val_loss: 1.2763 - val_acc: 0.4550\n",
            "Epoch 3/50\n",
            "37/37 [==============================] - 6s 170ms/step - loss: 1.2386 - acc: 0.4777 - val_loss: 1.3637 - val_acc: 0.4087\n",
            "Epoch 4/50\n",
            "37/37 [==============================] - 6s 171ms/step - loss: 1.2231 - acc: 0.4756 - val_loss: 1.3446 - val_acc: 0.3972\n",
            "Epoch 5/50\n",
            "37/37 [==============================] - 6s 172ms/step - loss: 1.2485 - acc: 0.4647 - val_loss: 1.2219 - val_acc: 0.4717\n",
            "Epoch 6/50\n",
            "37/37 [==============================] - 6s 170ms/step - loss: 1.1046 - acc: 0.5319 - val_loss: 1.2041 - val_acc: 0.4640\n",
            "Epoch 7/50\n",
            "37/37 [==============================] - 6s 170ms/step - loss: 1.0830 - acc: 0.5468 - val_loss: 1.1373 - val_acc: 0.5167\n",
            "Epoch 8/50\n",
            "37/37 [==============================] - 6s 170ms/step - loss: 1.0515 - acc: 0.5895 - val_loss: 1.0912 - val_acc: 0.5643\n",
            "Epoch 9/50\n",
            "37/37 [==============================] - 6s 170ms/step - loss: 1.0207 - acc: 0.5978 - val_loss: 1.1716 - val_acc: 0.5386\n",
            "Epoch 10/50\n",
            "37/37 [==============================] - 6s 171ms/step - loss: 0.9466 - acc: 0.6332 - val_loss: 1.0981 - val_acc: 0.5694\n",
            "Epoch 11/50\n",
            "37/37 [==============================] - 6s 171ms/step - loss: 0.9671 - acc: 0.6180 - val_loss: 0.9898 - val_acc: 0.6144\n",
            "Epoch 12/50\n",
            "37/37 [==============================] - 6s 171ms/step - loss: 0.9176 - acc: 0.6343 - val_loss: 1.1212 - val_acc: 0.5643\n",
            "Epoch 13/50\n",
            "37/37 [==============================] - 6s 171ms/step - loss: 0.8820 - acc: 0.6545 - val_loss: 1.0084 - val_acc: 0.5925\n",
            "Epoch 14/50\n",
            "37/37 [==============================] - 6s 171ms/step - loss: 0.8691 - acc: 0.6837 - val_loss: 0.9913 - val_acc: 0.5964\n",
            "Epoch 15/50\n",
            "37/37 [==============================] - 6s 172ms/step - loss: 0.8383 - acc: 0.6506 - val_loss: 0.9530 - val_acc: 0.6247\n",
            "Epoch 16/50\n",
            "37/37 [==============================] - 6s 172ms/step - loss: 0.7948 - acc: 0.6949 - val_loss: 1.0452 - val_acc: 0.5874\n",
            "Epoch 17/50\n",
            "37/37 [==============================] - 6s 172ms/step - loss: 0.8017 - acc: 0.6663 - val_loss: 0.9852 - val_acc: 0.6311\n",
            "Epoch 18/50\n",
            "37/37 [==============================] - 6s 172ms/step - loss: 0.7248 - acc: 0.7121 - val_loss: 0.9319 - val_acc: 0.6427\n",
            "Epoch 19/50\n",
            "37/37 [==============================] - 6s 173ms/step - loss: 0.7377 - acc: 0.7011 - val_loss: 0.9774 - val_acc: 0.6208\n",
            "Epoch 20/50\n",
            "37/37 [==============================] - 6s 173ms/step - loss: 0.7256 - acc: 0.7108 - val_loss: 0.9520 - val_acc: 0.6170\n",
            "Epoch 21/50\n",
            "37/37 [==============================] - 6s 172ms/step - loss: 0.7150 - acc: 0.7223 - val_loss: 1.0555 - val_acc: 0.6170\n",
            "Epoch 22/50\n",
            "37/37 [==============================] - 6s 172ms/step - loss: 0.6899 - acc: 0.7421 - val_loss: 0.9095 - val_acc: 0.6401\n",
            "Epoch 23/50\n",
            "37/37 [==============================] - 6s 172ms/step - loss: 0.6844 - acc: 0.7261 - val_loss: 1.0220 - val_acc: 0.6015\n",
            "Epoch 24/50\n",
            "37/37 [==============================] - 6s 172ms/step - loss: 0.6573 - acc: 0.7427 - val_loss: 0.9207 - val_acc: 0.6594\n",
            "Epoch 25/50\n",
            "37/37 [==============================] - 6s 171ms/step - loss: 0.6730 - acc: 0.7450 - val_loss: 1.0743 - val_acc: 0.5887\n",
            "Epoch 26/50\n",
            "37/37 [==============================] - 6s 171ms/step - loss: 0.6252 - acc: 0.7580 - val_loss: 0.9507 - val_acc: 0.6632\n",
            "Epoch 27/50\n",
            "37/37 [==============================] - 6s 171ms/step - loss: 0.5876 - acc: 0.7536 - val_loss: 1.0046 - val_acc: 0.6530\n",
            "Epoch 28/50\n",
            "37/37 [==============================] - 6s 172ms/step - loss: 0.5333 - acc: 0.8015 - val_loss: 1.0541 - val_acc: 0.6208\n",
            "Epoch 29/50\n",
            "37/37 [==============================] - 6s 172ms/step - loss: 0.6134 - acc: 0.7616 - val_loss: 1.1553 - val_acc: 0.6157\n",
            "Epoch 30/50\n",
            "37/37 [==============================] - 6s 172ms/step - loss: 0.6658 - acc: 0.7449 - val_loss: 1.0293 - val_acc: 0.6144\n",
            "Epoch 31/50\n",
            "37/37 [==============================] - 6s 171ms/step - loss: 0.5989 - acc: 0.7577 - val_loss: 1.1859 - val_acc: 0.6183\n",
            "Epoch 32/50\n",
            "37/37 [==============================] - 6s 172ms/step - loss: 0.5922 - acc: 0.7672 - val_loss: 0.9691 - val_acc: 0.6465\n",
            "Epoch 33/50\n",
            "37/37 [==============================] - 6s 173ms/step - loss: 0.5026 - acc: 0.7937 - val_loss: 0.9977 - val_acc: 0.6452\n",
            "Epoch 34/50\n",
            "37/37 [==============================] - 6s 173ms/step - loss: 0.4899 - acc: 0.8050 - val_loss: 1.0127 - val_acc: 0.6530\n",
            "Epoch 35/50\n",
            "37/37 [==============================] - 6s 173ms/step - loss: 0.4684 - acc: 0.8176 - val_loss: 1.0396 - val_acc: 0.6530\n",
            "Epoch 36/50\n",
            "37/37 [==============================] - 6s 173ms/step - loss: 0.5014 - acc: 0.8050 - val_loss: 1.0564 - val_acc: 0.6632\n",
            "Epoch 37/50\n",
            "37/37 [==============================] - 6s 173ms/step - loss: 0.4650 - acc: 0.8150 - val_loss: 1.1501 - val_acc: 0.6427\n",
            "Epoch 38/50\n",
            "37/37 [==============================] - 6s 173ms/step - loss: 0.4661 - acc: 0.8205 - val_loss: 1.1090 - val_acc: 0.6183\n",
            "Epoch 39/50\n",
            "37/37 [==============================] - 6s 172ms/step - loss: 0.5060 - acc: 0.8055 - val_loss: 1.1461 - val_acc: 0.6298\n",
            "Epoch 40/50\n",
            "37/37 [==============================] - 6s 172ms/step - loss: 0.5267 - acc: 0.7991 - val_loss: 1.1606 - val_acc: 0.6260\n",
            "Epoch 41/50\n",
            "37/37 [==============================] - 6s 172ms/step - loss: 0.4549 - acc: 0.8271 - val_loss: 1.1331 - val_acc: 0.6478\n",
            "Epoch 42/50\n",
            "37/37 [==============================] - 6s 172ms/step - loss: 0.4192 - acc: 0.8173 - val_loss: 1.1125 - val_acc: 0.6594\n",
            "Epoch 43/50\n",
            "37/37 [==============================] - 6s 171ms/step - loss: 0.3622 - acc: 0.8638 - val_loss: 1.2102 - val_acc: 0.6080\n",
            "Epoch 44/50\n",
            "37/37 [==============================] - 6s 171ms/step - loss: 0.4707 - acc: 0.8181 - val_loss: 1.0447 - val_acc: 0.6517\n",
            "Epoch 45/50\n",
            "37/37 [==============================] - 6s 171ms/step - loss: 0.4558 - acc: 0.8421 - val_loss: 1.1478 - val_acc: 0.6491\n",
            "Epoch 46/50\n",
            "37/37 [==============================] - 6s 171ms/step - loss: 0.4421 - acc: 0.8245 - val_loss: 1.1768 - val_acc: 0.6260\n",
            "Epoch 47/50\n",
            "37/37 [==============================] - 6s 171ms/step - loss: 0.4168 - acc: 0.8483 - val_loss: 1.0890 - val_acc: 0.6427\n",
            "Epoch 48/50\n",
            "37/37 [==============================] - 6s 170ms/step - loss: 0.4063 - acc: 0.8427 - val_loss: 1.2627 - val_acc: 0.6260\n",
            "Epoch 49/50\n",
            "37/37 [==============================] - 6s 171ms/step - loss: 0.4371 - acc: 0.8261 - val_loss: 1.1451 - val_acc: 0.6195\n",
            "Epoch 50/50\n",
            "37/37 [==============================] - 6s 170ms/step - loss: 0.3792 - acc: 0.8527 - val_loss: 1.1859 - val_acc: 0.6427\n",
            "Score for fold 2: loss of 1.204494833946228; acc of 64.65817093849182%\n",
            "------------------------------------------------------------------------\n",
            "Training for fold 3 ...\n",
            "Epoch 1/50\n",
            "37/37 [==============================] - 8s 185ms/step - loss: 1.5287 - acc: 0.2985 - val_loss: 1.4238 - val_acc: 0.3033\n",
            "Epoch 2/50\n",
            "37/37 [==============================] - 6s 171ms/step - loss: 1.3166 - acc: 0.4117 - val_loss: 1.3696 - val_acc: 0.3355\n",
            "Epoch 3/50\n",
            "37/37 [==============================] - 6s 173ms/step - loss: 1.2139 - acc: 0.4688 - val_loss: 1.3162 - val_acc: 0.4267\n",
            "Epoch 4/50\n",
            "37/37 [==============================] - 6s 172ms/step - loss: 1.1916 - acc: 0.4806 - val_loss: 1.1406 - val_acc: 0.5244\n",
            "Epoch 5/50\n",
            "37/37 [==============================] - 6s 171ms/step - loss: 1.2186 - acc: 0.4960 - val_loss: 1.1772 - val_acc: 0.4961\n",
            "Epoch 6/50\n",
            "37/37 [==============================] - 6s 172ms/step - loss: 1.0467 - acc: 0.5562 - val_loss: 1.2786 - val_acc: 0.4537\n",
            "Epoch 7/50\n",
            "37/37 [==============================] - 6s 170ms/step - loss: 1.0404 - acc: 0.5676 - val_loss: 1.1395 - val_acc: 0.5219\n",
            "Epoch 8/50\n",
            "37/37 [==============================] - 6s 170ms/step - loss: 1.0739 - acc: 0.5468 - val_loss: 1.1871 - val_acc: 0.5411\n",
            "Epoch 9/50\n",
            "37/37 [==============================] - 6s 171ms/step - loss: 1.0237 - acc: 0.5802 - val_loss: 1.0190 - val_acc: 0.5938\n",
            "Epoch 10/50\n",
            "37/37 [==============================] - 6s 171ms/step - loss: 0.9482 - acc: 0.6099 - val_loss: 1.1221 - val_acc: 0.5450\n",
            "Epoch 11/50\n",
            "37/37 [==============================] - 6s 172ms/step - loss: 0.9629 - acc: 0.6195 - val_loss: 1.1061 - val_acc: 0.5887\n",
            "Epoch 12/50\n",
            "37/37 [==============================] - 6s 171ms/step - loss: 0.8852 - acc: 0.6407 - val_loss: 1.1576 - val_acc: 0.5450\n",
            "Epoch 13/50\n",
            "37/37 [==============================] - 6s 172ms/step - loss: 0.8850 - acc: 0.6470 - val_loss: 1.1699 - val_acc: 0.5334\n",
            "Epoch 14/50\n",
            "37/37 [==============================] - 6s 171ms/step - loss: 1.0026 - acc: 0.6086 - val_loss: 1.1331 - val_acc: 0.5476\n",
            "Epoch 15/50\n",
            "37/37 [==============================] - 6s 172ms/step - loss: 0.8342 - acc: 0.6694 - val_loss: 1.0673 - val_acc: 0.5835\n",
            "Epoch 16/50\n",
            "37/37 [==============================] - 6s 172ms/step - loss: 0.7871 - acc: 0.6764 - val_loss: 1.1116 - val_acc: 0.5514\n",
            "Epoch 17/50\n",
            "37/37 [==============================] - 6s 172ms/step - loss: 0.7807 - acc: 0.6838 - val_loss: 1.0089 - val_acc: 0.6131\n",
            "Epoch 18/50\n",
            "37/37 [==============================] - 6s 171ms/step - loss: 0.7620 - acc: 0.6931 - val_loss: 1.0418 - val_acc: 0.6054\n",
            "Epoch 19/50\n",
            "37/37 [==============================] - 6s 171ms/step - loss: 0.7790 - acc: 0.6886 - val_loss: 1.1795 - val_acc: 0.5476\n",
            "Epoch 20/50\n",
            "37/37 [==============================] - 6s 172ms/step - loss: 0.7982 - acc: 0.6913 - val_loss: 0.9744 - val_acc: 0.6285\n",
            "Epoch 21/50\n",
            "37/37 [==============================] - 6s 171ms/step - loss: 0.7446 - acc: 0.6990 - val_loss: 0.9952 - val_acc: 0.6401\n",
            "Epoch 22/50\n",
            "37/37 [==============================] - 6s 172ms/step - loss: 0.6799 - acc: 0.7260 - val_loss: 1.0432 - val_acc: 0.6234\n",
            "Epoch 23/50\n",
            "37/37 [==============================] - 6s 172ms/step - loss: 0.6980 - acc: 0.7155 - val_loss: 0.9992 - val_acc: 0.6362\n",
            "Epoch 24/50\n",
            "37/37 [==============================] - 6s 171ms/step - loss: 0.6420 - acc: 0.7434 - val_loss: 1.0306 - val_acc: 0.6234\n",
            "Epoch 25/50\n",
            "37/37 [==============================] - 6s 170ms/step - loss: 0.6814 - acc: 0.7260 - val_loss: 1.0724 - val_acc: 0.6118\n",
            "Epoch 26/50\n",
            "37/37 [==============================] - 6s 172ms/step - loss: 0.6294 - acc: 0.7413 - val_loss: 1.1644 - val_acc: 0.6272\n",
            "Epoch 27/50\n",
            "37/37 [==============================] - 6s 171ms/step - loss: 0.6060 - acc: 0.7733 - val_loss: 0.9661 - val_acc: 0.6607\n",
            "Epoch 28/50\n",
            "37/37 [==============================] - 6s 172ms/step - loss: 0.6110 - acc: 0.7407 - val_loss: 1.0797 - val_acc: 0.6337\n",
            "Epoch 29/50\n",
            "37/37 [==============================] - 6s 172ms/step - loss: 0.6276 - acc: 0.7606 - val_loss: 1.0434 - val_acc: 0.6427\n",
            "Epoch 30/50\n",
            "37/37 [==============================] - 6s 172ms/step - loss: 0.5658 - acc: 0.7736 - val_loss: 0.9588 - val_acc: 0.6620\n",
            "Epoch 31/50\n",
            "37/37 [==============================] - 6s 172ms/step - loss: 0.5606 - acc: 0.7871 - val_loss: 1.0382 - val_acc: 0.6722\n",
            "Epoch 32/50\n",
            "37/37 [==============================] - 6s 172ms/step - loss: 0.5210 - acc: 0.7941 - val_loss: 1.0259 - val_acc: 0.6362\n",
            "Epoch 33/50\n",
            "37/37 [==============================] - 6s 172ms/step - loss: 0.5179 - acc: 0.7907 - val_loss: 0.9805 - val_acc: 0.6530\n",
            "Epoch 34/50\n",
            "37/37 [==============================] - 6s 170ms/step - loss: 0.5044 - acc: 0.8054 - val_loss: 1.2081 - val_acc: 0.5977\n",
            "Epoch 35/50\n",
            "37/37 [==============================] - 6s 171ms/step - loss: 0.5235 - acc: 0.7920 - val_loss: 1.0903 - val_acc: 0.6311\n",
            "Epoch 36/50\n",
            "37/37 [==============================] - 6s 170ms/step - loss: 0.5140 - acc: 0.7898 - val_loss: 1.1172 - val_acc: 0.6221\n",
            "Epoch 37/50\n",
            "37/37 [==============================] - 6s 171ms/step - loss: 0.4893 - acc: 0.8140 - val_loss: 1.0145 - val_acc: 0.6658\n",
            "Epoch 38/50\n",
            "37/37 [==============================] - 6s 172ms/step - loss: 0.4913 - acc: 0.8046 - val_loss: 1.0808 - val_acc: 0.6710\n",
            "Epoch 39/50\n",
            "37/37 [==============================] - 6s 171ms/step - loss: 0.4416 - acc: 0.8291 - val_loss: 1.1391 - val_acc: 0.6684\n",
            "Epoch 40/50\n",
            "37/37 [==============================] - 6s 171ms/step - loss: 0.4567 - acc: 0.8328 - val_loss: 1.0671 - val_acc: 0.6401\n",
            "Epoch 41/50\n",
            "37/37 [==============================] - 6s 172ms/step - loss: 0.5635 - acc: 0.7736 - val_loss: 1.2129 - val_acc: 0.6388\n",
            "Epoch 42/50\n",
            "37/37 [==============================] - 6s 171ms/step - loss: 0.4612 - acc: 0.8247 - val_loss: 1.2512 - val_acc: 0.6285\n",
            "Epoch 43/50\n",
            "37/37 [==============================] - 6s 172ms/step - loss: 0.4458 - acc: 0.8090 - val_loss: 1.2137 - val_acc: 0.6465\n",
            "Epoch 44/50\n",
            "37/37 [==============================] - 6s 171ms/step - loss: 0.3958 - acc: 0.8340 - val_loss: 1.2012 - val_acc: 0.6285\n",
            "Epoch 45/50\n",
            "37/37 [==============================] - 6s 170ms/step - loss: 0.4860 - acc: 0.8090 - val_loss: 1.1151 - val_acc: 0.6517\n",
            "Epoch 46/50\n",
            "37/37 [==============================] - 6s 171ms/step - loss: 0.3801 - acc: 0.8423 - val_loss: 1.2097 - val_acc: 0.6414\n",
            "Epoch 47/50\n",
            "37/37 [==============================] - 6s 172ms/step - loss: 0.3874 - acc: 0.8640 - val_loss: 1.2331 - val_acc: 0.6388\n",
            "Epoch 48/50\n",
            "37/37 [==============================] - 6s 171ms/step - loss: 0.4189 - acc: 0.8356 - val_loss: 1.2416 - val_acc: 0.6221\n",
            "Epoch 49/50\n",
            "37/37 [==============================] - 6s 171ms/step - loss: 0.4287 - acc: 0.8315 - val_loss: 1.2135 - val_acc: 0.6375\n",
            "Epoch 50/50\n",
            "37/37 [==============================] - 6s 172ms/step - loss: 0.4333 - acc: 0.8343 - val_loss: 1.2034 - val_acc: 0.6581\n",
            "Score for fold 3: loss of 1.1484172344207764; acc of 66.51216745376587%\n",
            "------------------------------------------------------------------------\n",
            "Training for fold 4 ...\n",
            "Epoch 1/50\n",
            "37/37 [==============================] - 8s 188ms/step - loss: 1.6111 - acc: 0.2447 - val_loss: 1.4376 - val_acc: 0.3432\n",
            "Epoch 2/50\n",
            "37/37 [==============================] - 6s 174ms/step - loss: 1.3213 - acc: 0.4102 - val_loss: 1.2687 - val_acc: 0.4242\n",
            "Epoch 3/50\n",
            "37/37 [==============================] - 6s 173ms/step - loss: 1.2034 - acc: 0.4770 - val_loss: 1.2939 - val_acc: 0.4370\n",
            "Epoch 4/50\n",
            "37/37 [==============================] - 6s 173ms/step - loss: 1.1516 - acc: 0.5145 - val_loss: 1.2533 - val_acc: 0.4961\n",
            "Epoch 5/50\n",
            "37/37 [==============================] - 6s 173ms/step - loss: 1.1691 - acc: 0.5074 - val_loss: 1.2746 - val_acc: 0.4434\n",
            "Epoch 6/50\n",
            "37/37 [==============================] - 6s 173ms/step - loss: 1.1208 - acc: 0.5169 - val_loss: 1.1805 - val_acc: 0.5206\n",
            "Epoch 7/50\n",
            "37/37 [==============================] - 6s 173ms/step - loss: 1.0879 - acc: 0.5580 - val_loss: 1.2744 - val_acc: 0.4653\n",
            "Epoch 8/50\n",
            "37/37 [==============================] - 6s 174ms/step - loss: 1.0612 - acc: 0.5670 - val_loss: 1.1672 - val_acc: 0.5373\n",
            "Epoch 9/50\n",
            "37/37 [==============================] - 6s 174ms/step - loss: 1.0674 - acc: 0.5670 - val_loss: 1.3898 - val_acc: 0.4344\n",
            "Epoch 10/50\n",
            "37/37 [==============================] - 6s 174ms/step - loss: 1.0295 - acc: 0.6215 - val_loss: 1.1559 - val_acc: 0.5064\n",
            "Epoch 11/50\n",
            "37/37 [==============================] - 6s 173ms/step - loss: 1.0069 - acc: 0.5932 - val_loss: 1.0896 - val_acc: 0.5823\n",
            "Epoch 12/50\n",
            "37/37 [==============================] - 6s 175ms/step - loss: 0.9684 - acc: 0.6071 - val_loss: 1.2318 - val_acc: 0.5141\n",
            "Epoch 13/50\n",
            "37/37 [==============================] - 6s 173ms/step - loss: 0.9442 - acc: 0.6095 - val_loss: 1.1797 - val_acc: 0.5103\n",
            "Epoch 14/50\n",
            "37/37 [==============================] - 6s 174ms/step - loss: 0.9150 - acc: 0.6123 - val_loss: 1.0588 - val_acc: 0.5656\n",
            "Epoch 15/50\n",
            "37/37 [==============================] - 6s 175ms/step - loss: 0.8490 - acc: 0.6602 - val_loss: 1.0805 - val_acc: 0.5668\n",
            "Epoch 16/50\n",
            "37/37 [==============================] - 6s 174ms/step - loss: 0.8043 - acc: 0.6771 - val_loss: 1.0714 - val_acc: 0.5835\n",
            "Epoch 17/50\n",
            "37/37 [==============================] - 6s 174ms/step - loss: 0.8023 - acc: 0.6904 - val_loss: 1.0961 - val_acc: 0.5527\n",
            "Epoch 18/50\n",
            "37/37 [==============================] - 6s 174ms/step - loss: 0.8185 - acc: 0.6726 - val_loss: 1.0402 - val_acc: 0.5874\n",
            "Epoch 19/50\n",
            "37/37 [==============================] - 6s 174ms/step - loss: 0.7270 - acc: 0.7121 - val_loss: 1.0423 - val_acc: 0.5990\n",
            "Epoch 20/50\n",
            "37/37 [==============================] - 6s 174ms/step - loss: 0.7017 - acc: 0.7274 - val_loss: 1.0403 - val_acc: 0.5938\n",
            "Epoch 21/50\n",
            "37/37 [==============================] - 6s 175ms/step - loss: 0.6878 - acc: 0.7256 - val_loss: 1.0983 - val_acc: 0.5784\n",
            "Epoch 22/50\n",
            "37/37 [==============================] - 6s 175ms/step - loss: 0.6913 - acc: 0.7294 - val_loss: 1.0556 - val_acc: 0.5913\n",
            "Epoch 23/50\n",
            "37/37 [==============================] - 6s 173ms/step - loss: 0.6424 - acc: 0.7681 - val_loss: 1.0112 - val_acc: 0.6183\n",
            "Epoch 24/50\n",
            "37/37 [==============================] - 6s 174ms/step - loss: 0.6794 - acc: 0.7226 - val_loss: 1.1535 - val_acc: 0.5758\n",
            "Epoch 25/50\n",
            "37/37 [==============================] - 6s 174ms/step - loss: 0.7229 - acc: 0.6954 - val_loss: 1.0955 - val_acc: 0.5925\n",
            "Epoch 26/50\n",
            "37/37 [==============================] - 6s 175ms/step - loss: 0.6511 - acc: 0.7625 - val_loss: 0.9944 - val_acc: 0.6272\n",
            "Epoch 27/50\n",
            "37/37 [==============================] - 6s 175ms/step - loss: 0.6477 - acc: 0.7473 - val_loss: 1.0317 - val_acc: 0.6208\n",
            "Epoch 28/50\n",
            "37/37 [==============================] - 7s 176ms/step - loss: 0.5883 - acc: 0.7652 - val_loss: 1.1919 - val_acc: 0.5733\n",
            "Epoch 29/50\n",
            "37/37 [==============================] - 7s 176ms/step - loss: 0.5817 - acc: 0.7715 - val_loss: 1.0474 - val_acc: 0.6208\n",
            "Epoch 30/50\n",
            "37/37 [==============================] - 6s 175ms/step - loss: 0.5592 - acc: 0.7840 - val_loss: 1.1067 - val_acc: 0.6054\n",
            "Epoch 31/50\n",
            "37/37 [==============================] - 6s 174ms/step - loss: 0.5161 - acc: 0.7995 - val_loss: 1.1252 - val_acc: 0.6067\n",
            "Epoch 32/50\n",
            "37/37 [==============================] - 6s 174ms/step - loss: 0.5646 - acc: 0.7692 - val_loss: 1.0962 - val_acc: 0.6362\n",
            "Epoch 33/50\n",
            "37/37 [==============================] - 6s 173ms/step - loss: 0.5317 - acc: 0.7841 - val_loss: 1.1283 - val_acc: 0.6118\n",
            "Epoch 34/50\n",
            "37/37 [==============================] - 6s 174ms/step - loss: 0.5194 - acc: 0.8029 - val_loss: 1.1363 - val_acc: 0.5861\n",
            "Epoch 35/50\n",
            "37/37 [==============================] - 6s 173ms/step - loss: 0.5479 - acc: 0.7987 - val_loss: 1.1352 - val_acc: 0.5964\n",
            "Epoch 36/50\n",
            "37/37 [==============================] - 6s 174ms/step - loss: 0.4712 - acc: 0.8137 - val_loss: 1.1659 - val_acc: 0.6157\n",
            "Epoch 37/50\n",
            "37/37 [==============================] - 6s 173ms/step - loss: 0.5348 - acc: 0.7843 - val_loss: 1.1966 - val_acc: 0.6067\n",
            "Epoch 38/50\n",
            "37/37 [==============================] - 6s 174ms/step - loss: 0.4382 - acc: 0.8393 - val_loss: 1.1809 - val_acc: 0.6170\n",
            "Epoch 39/50\n",
            "37/37 [==============================] - 6s 174ms/step - loss: 0.5159 - acc: 0.8000 - val_loss: 1.2425 - val_acc: 0.5925\n",
            "Epoch 40/50\n",
            "37/37 [==============================] - 6s 174ms/step - loss: 0.4464 - acc: 0.8219 - val_loss: 1.1602 - val_acc: 0.6080\n",
            "Epoch 41/50\n",
            "37/37 [==============================] - 6s 173ms/step - loss: 0.4408 - acc: 0.8393 - val_loss: 1.2430 - val_acc: 0.6028\n",
            "Epoch 42/50\n",
            "37/37 [==============================] - 6s 173ms/step - loss: 0.4593 - acc: 0.8090 - val_loss: 1.0984 - val_acc: 0.6247\n",
            "Epoch 43/50\n",
            "37/37 [==============================] - 6s 175ms/step - loss: 0.4657 - acc: 0.8119 - val_loss: 1.2308 - val_acc: 0.6131\n",
            "Epoch 44/50\n",
            "37/37 [==============================] - 6s 174ms/step - loss: 0.4462 - acc: 0.8299 - val_loss: 1.3004 - val_acc: 0.6015\n",
            "Epoch 45/50\n",
            "37/37 [==============================] - 6s 174ms/step - loss: 0.4151 - acc: 0.8463 - val_loss: 1.2800 - val_acc: 0.6118\n",
            "Epoch 46/50\n",
            "37/37 [==============================] - 6s 174ms/step - loss: 0.3707 - acc: 0.8538 - val_loss: 1.2223 - val_acc: 0.6221\n",
            "Epoch 47/50\n",
            "37/37 [==============================] - 6s 174ms/step - loss: 0.3982 - acc: 0.8401 - val_loss: 1.2112 - val_acc: 0.6080\n",
            "Epoch 48/50\n",
            "37/37 [==============================] - 6s 174ms/step - loss: 0.3680 - acc: 0.8566 - val_loss: 1.3412 - val_acc: 0.5848\n",
            "Epoch 49/50\n",
            "37/37 [==============================] - 6s 174ms/step - loss: 0.3749 - acc: 0.8502 - val_loss: 1.1723 - val_acc: 0.6208\n",
            "Epoch 50/50\n",
            "37/37 [==============================] - 6s 173ms/step - loss: 0.4060 - acc: 0.8351 - val_loss: 1.3817 - val_acc: 0.5913\n",
            "Score for fold 4: loss of 1.210600733757019; acc of 62.80417442321777%\n",
            "------------------------------------------------------------------------\n",
            "Score per fold\n",
            "------------------------------------------------------------------------\n",
            "> Fold 1 - Loss: 1.1648914813995361 - Accuracy: 63.19444179534912%\n",
            "------------------------------------------------------------------------\n",
            "> Fold 2 - Loss: 1.204494833946228 - Accuracy: 64.65817093849182%\n",
            "------------------------------------------------------------------------\n",
            "> Fold 3 - Loss: 1.1484172344207764 - Accuracy: 66.51216745376587%\n",
            "------------------------------------------------------------------------\n",
            "> Fold 4 - Loss: 1.210600733757019 - Accuracy: 62.80417442321777%\n",
            "------------------------------------------------------------------------\n",
            "Average scores for all folds:\n",
            "> Accuracy: 64.29223865270615 (+- 1.4561493236152476)\n",
            "> Loss: 1.18210107088089\n",
            "------------------------------------------------------------------------\n"
          ],
          "name": "stdout"
        }
      ]
    },
    {
      "cell_type": "code",
      "metadata": {
        "id": "UOVbUXyzTbnq"
      },
      "source": [
        "from tensorflow.keras.models import Sequential, save_model, load_model\n",
        "# Save the model\n",
        "filepath = '/content/my_model/saved_model'\n",
        "save_model(model_flower, filepath, save_format='h5')"
      ],
      "execution_count": 10,
      "outputs": []
    },
    {
      "cell_type": "code",
      "metadata": {
        "id": "JaDl46OhS3J8"
      },
      "source": [
        "# Load the model\n",
        "loaded_model = load_model(\n",
        "    filepath,\n",
        "    custom_objects=None,\n",
        "    compile=True\n",
        ")"
      ],
      "execution_count": 11,
      "outputs": []
    },
    {
      "cell_type": "code",
      "metadata": {
        "colab": {
          "base_uri": "https://localhost:8080/",
          "height": 295
        },
        "id": "JtjGkfslOw5V",
        "outputId": "2caccd93-08c6-48c2-c157-49b32102668b"
      },
      "source": [
        "# summarize history for accuracy\n",
        "#plt.plot(history.history['acc'])\n",
        "plt.plot(history.history['acc'])\n",
        "plt.plot(history.history['val_acc'])\n",
        "plt.title('model accuracy')\n",
        "plt.ylabel('accuracy')\n",
        "plt.xlabel('epoch')\n",
        "plt.legend(['train', 'test'], loc='upper left')\n",
        "plt.show()"
      ],
      "execution_count": 12,
      "outputs": [
        {
          "output_type": "display_data",
          "data": {
            "image/png": "[encoded data removed]",
            "text/plain": [
              "<Figure size 432x288 with 1 Axes>"
            ]
          },
          "metadata": {
            "tags": [],
            "needs_background": "light"
          }
        }
      ]
    },
    {
      "cell_type": "code",
      "metadata": {
        "colab": {
          "base_uri": "https://localhost:8080/",
          "height": 295
        },
        "id": "z03FEfqDO_Sz",
        "outputId": "f4a39d72-8ac9-4370-a62c-0d8b65dcb692"
      },
      "source": [
        "# summarize history for loss\n",
        "plt.plot(history.history['loss'])\n",
        "plt.plot(history.history['val_loss'])\n",
        "plt.title('model loss')\n",
        "plt.ylabel('loss')\n",
        "plt.xlabel('epoch')\n",
        "plt.legend(['train', 'test'], loc='upper left')\n",
        "plt.show()"
      ],
      "execution_count": 13,
      "outputs": [
        {
          "output_type": "display_data",
          "data": {
            "image/png": "[encoded data removed]",
            "text/plain": [
              "<Figure size 432x288 with 1 Axes>"
            ]
          },
          "metadata": {
            "tags": [],
            "needs_background": "light"
          }
        }
      ]
    },
    {
      "cell_type": "code",
      "metadata": {
        "colab": {
          "base_uri": "https://localhost:8080/"
        },
        "id": "N7dtZGe-ZQ1Z",
        "outputId": "6c91faa4-7bfa-4a49-e4ef-f9d2304a8951"
      },
      "source": [
        "model_flower.evaluate(X_test1,y_test_one_hot)"
      ],
      "execution_count": 14,
      "outputs": [
        {
          "output_type": "stream",
          "text": [
            "27/27 [==============================] - 1s 23ms/step - loss: 1.2857 - acc: 0.6366\n"
          ],
          "name": "stdout"
        },
        {
          "output_type": "execute_result",
          "data": {
            "text/plain": [
              "[1.285700798034668, 0.6365740895271301]"
            ]
          },
          "metadata": {
            "tags": []
          },
          "execution_count": 14
        }
      ]
    },
    {
      "cell_type": "code",
      "metadata": {
        "colab": {
          "resources": {
            "http://localhost:8080/nbextensions/google.colab/files.js": {
              "data": "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",
              "ok": true,
              "headers": [
                [
                  "content-type",
                  "application/javascript"
                ]
              ],
              "status": 200,
              "status_text": ""
            }
          },
          "base_uri": "https://localhost:8080/",
          "height": 73
        },
        "id": "1T5bin-QPMuz",
        "outputId": "36ccbbae-48ed-4028-ec32-fe63b46c55f5"
      },
      "source": [
        "#Let’s test the model by loading a new image.\n",
        "from google.colab import files\n",
        "uploaded=files.upload()"
      ],
      "execution_count": 15,
      "outputs": [
        {
          "output_type": "display_data",
          "data": {
            "text/html": [
              "\n",
              "     <input type=\"file\" id=\"files-a2f36966-d457-42ae-80d8-ecfbb8c8496b\" name=\"files[]\" multiple disabled\n",
              "        style=\"border:none\" />\n",
              "     <output id=\"result-a2f36966-d457-42ae-80d8-ecfbb8c8496b\">\n",
              "      Upload widget is only available when the cell has been executed in the\n",
              "      current browser session. Please rerun this cell to enable.\n",
              "      </output>\n",
              "      <script src=\"/nbextensions/google.colab/files.js\"></script> "
            ],
            "text/plain": [
              "<IPython.core.display.HTML object>"
            ]
          },
          "metadata": {
            "tags": []
          }
        },
        {
          "output_type": "stream",
          "text": [
            "Saving sunflower.jpg to sunflower.jpg\n"
          ],
          "name": "stdout"
        }
      ]
    },
    {
      "cell_type": "code",
      "metadata": {
        "colab": {
          "base_uri": "https://localhost:8080/",
          "height": 350
        },
        "id": "iFUbyH-WPWCG",
        "outputId": "5772e7ec-38c9-46d5-a30a-0ab70b2a1298"
      },
      "source": [
        "new_image=plt.imread(\"/content/sunflower.jpg\")\n",
        "plt.imshow(new_image)\n",
        "from skimage.transform import resize\n",
        "import numpy as np\n",
        "new_resize=resize(new_image,(32,32,3))\n",
        "plt.imshow(new_resize)\n",
        "probabilities=loaded_model.predict(np.array([new_resize,]))\n",
        "i=0\n",
        "for i in range(5):\n",
        "  print(folders[i],':',round(probabilities[0][i]*100,2),\"%\")"
      ],
      "execution_count": 16,
      "outputs": [
        {
          "output_type": "stream",
          "text": [
            "daisy : 0.0 %\n",
            "dandelion : 0.0 %\n",
            "rose : 0.0 %\n",
            "sunflower : 100.0 %\n",
            "tulip : 0.0 %\n"
          ],
          "name": "stdout"
        },
        {
          "output_type": "display_data",
          "data": {
            "image/png": "[encoded data removed]",
            "text/plain": [
              "<Figure size 432x288 with 1 Axes>"
            ]
          },
          "metadata": {
            "tags": [],
            "needs_background": "light"
          }
        }
      ]
    },
    {
      "cell_type": "code",
      "metadata": {
        "colab": {
          "base_uri": "https://localhost:8080/",
          "height": 513
        },
        "id": "9toFBQ6bPb-C",
        "outputId": "a6fbdb26-0f4f-42db-b83d-b186403ca9f2"
      },
      "source": [
        "from sklearn.metrics import confusion_matrix\n",
        "import seaborn as sns\n",
        "y_pred=model_flower.predict(X_test1)\n",
        "y_pred_classes=np.argmax(y_pred,axis=1)\n",
        "y_true=np.argmax(y_test_one_hot,axis=1)\n",
        "confusion_mtx=confusion_matrix(y_true,y_pred_classes)\n",
        "f,ax=plt.subplots(figsize=(8,8))\n",
        "sns.heatmap(confusion_mtx,annot=True,linewidths = 0.01,cmap=\"Reds\",\n",
        "            linecolor = \"gray\",fmt = \".2f\",ax=ax\n",
        "            )\n",
        "plt.xlabel(\"predicted label\")\n",
        "plt.ylabel(\"True Label\")\n",
        "plt.title(\"confusion matrix\")\n",
        "plt.show()\n"
      ],
      "execution_count": 17,
      "outputs": [
        {
          "output_type": "display_data",
          "data": {
            "image/png": "[encoded data removed]",
            "text/plain": [
              "<Figure size 576x576 with 2 Axes>"
            ]
          },
          "metadata": {
            "tags": [],
            "needs_background": "light"
          }
        }
      ]
    }
  ]
}