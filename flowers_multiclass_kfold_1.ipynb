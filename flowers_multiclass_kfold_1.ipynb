{
  "nbformat": 4,
  "nbformat_minor": 0,
  "metadata": {
    "colab": {
      "name": "flowers_multiclass_kfold_1.ipynb",
      "provenance": [],
      "collapsed_sections": [],
      "authorship_tag": "ABX9TyOlj+R2S3XT+c4GAt+GN5vG",
      "include_colab_link": true
    },
    "kernelspec": {
      "name": "python3",
      "display_name": "Python 3"
    },
    "language_info": {
      "name": "python"
    }
  },
  "cells": [
    {
      "cell_type": "markdown",
      "metadata": {
        "id": "view-in-github",
        "colab_type": "text"
      },
      "source": [
        "<a href=\"https://colab.research.google.com/github/anushavasup/flowers_recognition-using_kfold/blob/main/flowers_multiclass_kfold_1.ipynb\" target=\"_parent\"><img src=\"https://colab.research.google.com/assets/colab-badge.svg\" alt=\"Open In Colab\"/></a>"
      ]
    },
    {
      "cell_type": "code",
      "metadata": {
        "colab": {
          "base_uri": "https://localhost:8080/"
        },
        "id": "4ICbtL0fvy4g",
        "outputId": "995de5c8-c3ed-4cc5-8be3-cfa037f02771"
      },
      "source": [
        "from google.colab import drive\n",
        "drive.mount('/content/drive/')"
      ],
      "execution_count": 1,
      "outputs": [
        {
          "output_type": "stream",
          "text": [
            "Mounted at /content/drive/\n"
          ],
          "name": "stdout"
        }
      ]
    },
    {
      "cell_type": "code",
      "metadata": {
        "colab": {
          "base_uri": "https://localhost:8080/"
        },
        "id": "guhIHyXsv_IH",
        "outputId": "8d4c7151-c766-45fc-c4ad-2399ce91848c"
      },
      "source": [
        "from zipfile import ZipFile\n",
        "file_name = '/content/drive/MyDrive/flowers.zip'\n",
        "with ZipFile(file_name, 'r') as zip:\n",
        "  zip.extractall()\n",
        "  print('Done')"
      ],
      "execution_count": 2,
      "outputs": [
        {
          "output_type": "stream",
          "text": [
            "Done\n"
          ],
          "name": "stdout"
        }
      ]
    },
    {
      "cell_type": "code",
      "metadata": {
        "id": "qozqyE8kwc8i"
      },
      "source": [
        "import numpy as np \n",
        "import pandas as pd \n",
        "import os\n",
        "import matplotlib.pyplot as plt\n",
        "import cv2\n",
        "from tensorflow.keras.utils import to_categorical\n",
        "from keras.layers import Dense,Conv2D,Flatten,MaxPool2D,Dropout\n",
        "from keras.models import Sequential\n",
        "from sklearn.model_selection import train_test_split\n",
        "import tensorflow as tf\n"
      ],
      "execution_count": 3,
      "outputs": []
    },
    {
      "cell_type": "code",
      "metadata": {
        "id": "W7jMSFpQw7av"
      },
      "source": [
        "import glob \n",
        "import cv2\n",
        "from skimage.transform import resize\n",
        "folders=['daisy','dandelion','rose','sunflower','tulip']\n",
        "X=[]#feature dataset\n",
        "y=[]#target data set\n",
        "#loop through everyfolder\n",
        "for folder in folders:\n",
        "  path='/content/flowers/'+folder+'/*.jpg'\n",
        "  files=glob.glob(path)\n",
        "  for myfile in files:\n",
        "    image=cv2.imread(myfile)\n",
        "    image=cv2.cvtColor(image,cv2.COLOR_BGR2RGB)\n",
        "    image=resize(image,(32,32,3))\n",
        "    X.append(image)\n",
        "    y.append(folder)\n",
        "    "
      ],
      "execution_count": 4,
      "outputs": []
    },
    {
      "cell_type": "code",
      "metadata": {
        "colab": {
          "base_uri": "https://localhost:8080/"
        },
        "id": "5BzCz9jgPy9c",
        "outputId": "f4e4e36e-d815-478a-892b-c3f7067e149a"
      },
      "source": [
        "len(y)"
      ],
      "execution_count": null,
      "outputs": [
        {
          "output_type": "execute_result",
          "data": {
            "text/plain": [
              "4317"
            ]
          },
          "metadata": {
            "tags": []
          },
          "execution_count": 8
        }
      ]
    },
    {
      "cell_type": "code",
      "metadata": {
        "id": "YKf2a5KxyP1g"
      },
      "source": [
        "from sklearn.model_selection import train_test_split\n",
        "X_train,X_test,y_train,y_test=train_test_split(X,y,test_size=0.2,random_state=42)"
      ],
      "execution_count": 8,
      "outputs": []
    },
    {
      "cell_type": "code",
      "metadata": {
        "colab": {
          "base_uri": "https://localhost:8080/"
        },
        "id": "l_bfrE4qz_fJ",
        "outputId": "3bade567-ae28-438d-9c1a-070837ccdb84"
      },
      "source": [
        "from sklearn.preprocessing import LabelEncoder\n",
        "y_train=LabelEncoder().fit_transform(y_train)\n",
        "y_test=LabelEncoder().fit_transform(y_test)\n",
        "print(y_train)\n"
      ],
      "execution_count": 9,
      "outputs": [
        {
          "output_type": "stream",
          "text": [
            "[0 4 4 ... 3 4 1]\n"
          ],
          "name": "stdout"
        }
      ]
    },
    {
      "cell_type": "code",
      "metadata": {
        "colab": {
          "base_uri": "https://localhost:8080/"
        },
        "id": "wMmuy7As0Dw3",
        "outputId": "eda574d4-2c5f-4661-f35b-42b5f0db8f5f"
      },
      "source": [
        "from tensorflow.keras.utils import to_categorical\n",
        "from tensorflow.keras import layers\n",
        "y_train_one_hot=to_categorical(y_train)\n",
        "y_test_one_hot=to_categorical(y_test)\n",
        "normalization_layer = layers.experimental.preprocessing.Rescaling(1./255)\n",
        "X_train1=np.array(X_train)\n",
        "X_test1=np.array(X_test)\n",
        "print(type(X_test1))\n",
        "print(np.max(X_test1[3]))"
      ],
      "execution_count": 14,
      "outputs": [
        {
          "output_type": "stream",
          "text": [
            "<class 'numpy.ndarray'>\n",
            "0.9647058823529412\n"
          ],
          "name": "stdout"
        }
      ]
    },
    {
      "cell_type": "code",
      "metadata": {
        "colab": {
          "base_uri": "https://localhost:8080/"
        },
        "id": "-6v8uO-_wF6K",
        "outputId": "b2ec13ae-b28f-4d2b-9ae5-1f4fa195f21b"
      },
      "source": [
        "from sklearn.model_selection import KFold\n",
        "num_folds = 4\n",
        "verbosity = 1\n",
        "\n",
        "# Normalize data\n",
        "#input_train = input_train / 255\n",
        "#input_test = input_test / 255\n",
        "# Parse numbers as floats\n",
        "X_train1 = X_train1.astype('float32')\n",
        "X_test1 = X_test1.astype('float32')\n",
        "# Define per-fold score containers <-- these are new\n",
        "acc_per_fold = []\n",
        "loss_per_fold = []\n",
        "inputs = np.concatenate((X_train1, X_test1), axis=0)\n",
        "targets = np.concatenate((y_train_one_hot, y_test_one_hot), axis=0)\n",
        "# Define the K-fold Cross Validator\n",
        "kfold = KFold(n_splits=num_folds, shuffle=True)\n",
        "fold_no = 1\n",
        "for train, test in kfold.split(inputs, targets):\n",
        "  import keras\n",
        "\n",
        "# Creating a Sequential model\n",
        "  model_flower= Sequential()\n",
        "#model.add(data_augmentation)\n",
        "  model_flower.add(Conv2D(kernel_size=(3,3), filters=32, activation='relu', input_shape=(32,32,3)))\n",
        "  model_flower.add(Dropout(0.2))\n",
        "\n",
        "  model_flower.add(Conv2D(filters=30,kernel_size = (3,3),activation='relu'))\n",
        "  model_flower.add(MaxPool2D(2,2))\n",
        "  model_flower.add(Dropout(0.2))\n",
        "\n",
        "  model_flower.add(Conv2D(filters=30,kernel_size = (3,3),activation='relu'))\n",
        "  model_flower.add(MaxPool2D(2,2))\n",
        "  model_flower.add(Dropout(0.2))\n",
        "\n",
        "  model_flower.add(Conv2D(filters=30,kernel_size = (3,3),activation='relu'))\n",
        "  model_flower.add(Dropout(0.2))\n",
        "\n",
        "  model_flower.add(Flatten())\n",
        "\n",
        "  model_flower.add(Dense(1024,activation='tanh'))\n",
        "  model_flower.add(Dropout(0.2))\n",
        "  model_flower.add(Dense(512,activation='tanh'))\n",
        "#model_flower.add(Dense(32,activation='relu'))\n",
        "\n",
        "  model_flower.add(Dense(5,activation = 'softmax'))\n",
        "\n",
        "#optimizer = keras.optimizers.Adam(lr=0.1)   \n",
        "  model_flower.compile(\n",
        "              loss='categorical_crossentropy', \n",
        "              metrics=['acc'],\n",
        "              optimizer='adam',\n",
        "              \n",
        "             )\n",
        "  # Generate a print\n",
        "  print('------------------------------------------------------------------------')\n",
        "  print(f'Training for fold {fold_no} ...')\n",
        "\n",
        "  # Fit data to model\n",
        "  # Training the model\n",
        "  history = model.fit(inputs[train], targets[train],epochs=50,batch_size=50,verbose=verbosity,validation_split=0.3)\n",
        "\n",
        "  # Generate generalization metrics\n",
        "  scores = model.evaluate(inputs[test], targets[test], verbose=0)\n",
        "  print(f'Score for fold {fold_no}: {model.metrics_names[0]} of {scores[0]}; {model.metrics_names[1]} of {scores[1]*100}%')\n",
        "  acc_per_fold.append(scores[1] * 100)\n",
        "  loss_per_fold.append(scores[0])\n",
        "\n",
        "  # Increase fold number\n",
        "  fold_no = fold_no + 1\n",
        "# == Provide average scores ==\n",
        "print('------------------------------------------------------------------------')\n",
        "print('Score per fold')\n",
        "for i in range(0, len(acc_per_fold)):\n",
        "  print('------------------------------------------------------------------------')\n",
        "  print(f'> Fold {i+1} - Loss: {loss_per_fold[i]} - Accuracy: {acc_per_fold[i]}%')\n",
        "print('------------------------------------------------------------------------')\n",
        "print('Average scores for all folds:')\n",
        "print(f'> Accuracy: {np.mean(acc_per_fold)} (+- {np.std(acc_per_fold)})')\n",
        "print(f'> Loss: {np.mean(loss_per_fold)}')\n",
        "print('------------------------------------------------------------------------')\n",
        "\n",
        "\n",
        "\n"
      ],
      "execution_count": 24,
      "outputs": [
        {
          "output_type": "stream",
          "text": [
            "------------------------------------------------------------------------\n",
            "Training for fold 1 ...\n",
            "Epoch 1/50\n",
            "46/46 [==============================] - 9s 204ms/step - loss: 0.9565 - acc: 0.6049 - val_loss: 0.9954 - val_acc: 0.6008\n",
            "Epoch 2/50\n",
            "46/46 [==============================] - 9s 185ms/step - loss: 0.9347 - acc: 0.6128 - val_loss: 0.9684 - val_acc: 0.6235\n",
            "Epoch 3/50\n",
            "46/46 [==============================] - 8s 165ms/step - loss: 0.9163 - acc: 0.6384 - val_loss: 0.9921 - val_acc: 0.6173\n",
            "Epoch 4/50\n",
            "46/46 [==============================] - 8s 167ms/step - loss: 0.8918 - acc: 0.6384 - val_loss: 0.9807 - val_acc: 0.6348\n",
            "Epoch 5/50\n",
            "46/46 [==============================] - 8s 165ms/step - loss: 0.8785 - acc: 0.6446 - val_loss: 0.9801 - val_acc: 0.6008\n",
            "Epoch 6/50\n",
            "46/46 [==============================] - 8s 165ms/step - loss: 0.8813 - acc: 0.6402 - val_loss: 0.9428 - val_acc: 0.6399\n",
            "Epoch 7/50\n",
            "46/46 [==============================] - 8s 165ms/step - loss: 0.8595 - acc: 0.6521 - val_loss: 0.9555 - val_acc: 0.6296\n",
            "Epoch 8/50\n",
            "46/46 [==============================] - 8s 164ms/step - loss: 0.8381 - acc: 0.6618 - val_loss: 0.9512 - val_acc: 0.6337\n",
            "Epoch 9/50\n",
            "46/46 [==============================] - 8s 170ms/step - loss: 0.8118 - acc: 0.6706 - val_loss: 0.9499 - val_acc: 0.6348\n",
            "Epoch 10/50\n",
            "46/46 [==============================] - 8s 167ms/step - loss: 0.8148 - acc: 0.6675 - val_loss: 0.9727 - val_acc: 0.6245\n",
            "Epoch 11/50\n",
            "46/46 [==============================] - 8s 167ms/step - loss: 0.7998 - acc: 0.6795 - val_loss: 0.9203 - val_acc: 0.6430\n",
            "Epoch 12/50\n",
            "46/46 [==============================] - 8s 167ms/step - loss: 0.7486 - acc: 0.7007 - val_loss: 0.9350 - val_acc: 0.6461\n",
            "Epoch 13/50\n",
            "46/46 [==============================] - 8s 164ms/step - loss: 0.7628 - acc: 0.6980 - val_loss: 0.9306 - val_acc: 0.6533\n",
            "Epoch 14/50\n",
            "46/46 [==============================] - 8s 168ms/step - loss: 0.7343 - acc: 0.7091 - val_loss: 0.9438 - val_acc: 0.6399\n",
            "Epoch 15/50\n",
            "46/46 [==============================] - 8s 170ms/step - loss: 0.7340 - acc: 0.7082 - val_loss: 0.9371 - val_acc: 0.6595\n",
            "Epoch 16/50\n",
            "46/46 [==============================] - 8s 164ms/step - loss: 0.7205 - acc: 0.7148 - val_loss: 0.9158 - val_acc: 0.6656\n",
            "Epoch 17/50\n",
            "46/46 [==============================] - 7s 163ms/step - loss: 0.7412 - acc: 0.7095 - val_loss: 0.9996 - val_acc: 0.6440\n",
            "Epoch 18/50\n",
            "46/46 [==============================] - 7s 161ms/step - loss: 0.6954 - acc: 0.7179 - val_loss: 0.8953 - val_acc: 0.6636\n",
            "Epoch 19/50\n",
            "46/46 [==============================] - 8s 168ms/step - loss: 0.6778 - acc: 0.7325 - val_loss: 0.9628 - val_acc: 0.6749\n",
            "Epoch 20/50\n",
            "46/46 [==============================] - 8s 171ms/step - loss: 0.6470 - acc: 0.7479 - val_loss: 0.8925 - val_acc: 0.6811\n",
            "Epoch 21/50\n",
            "46/46 [==============================] - 8s 169ms/step - loss: 0.6868 - acc: 0.7347 - val_loss: 0.9242 - val_acc: 0.6646\n",
            "Epoch 22/50\n",
            "46/46 [==============================] - 8s 172ms/step - loss: 0.6282 - acc: 0.7682 - val_loss: 0.9489 - val_acc: 0.6718\n",
            "Epoch 23/50\n",
            "46/46 [==============================] - 8s 165ms/step - loss: 0.6294 - acc: 0.7532 - val_loss: 0.9472 - val_acc: 0.6718\n",
            "Epoch 24/50\n",
            "46/46 [==============================] - 8s 169ms/step - loss: 0.6217 - acc: 0.7501 - val_loss: 0.9267 - val_acc: 0.6708\n",
            "Epoch 25/50\n",
            "46/46 [==============================] - 8s 170ms/step - loss: 0.6038 - acc: 0.7607 - val_loss: 0.9731 - val_acc: 0.6718\n",
            "Epoch 26/50\n",
            "46/46 [==============================] - 8s 173ms/step - loss: 0.6111 - acc: 0.7558 - val_loss: 1.0326 - val_acc: 0.6409\n",
            "Epoch 27/50\n",
            "46/46 [==============================] - 8s 177ms/step - loss: 0.5969 - acc: 0.7770 - val_loss: 0.9299 - val_acc: 0.6770\n",
            "Epoch 28/50\n",
            "46/46 [==============================] - 8s 173ms/step - loss: 0.5926 - acc: 0.7651 - val_loss: 0.9273 - val_acc: 0.6564\n",
            "Epoch 29/50\n",
            "46/46 [==============================] - 8s 174ms/step - loss: 0.5631 - acc: 0.7868 - val_loss: 0.9443 - val_acc: 0.6646\n",
            "Epoch 30/50\n",
            "46/46 [==============================] - 8s 173ms/step - loss: 0.5470 - acc: 0.7757 - val_loss: 0.9351 - val_acc: 0.6728\n",
            "Epoch 31/50\n",
            "46/46 [==============================] - 8s 166ms/step - loss: 0.5458 - acc: 0.7916 - val_loss: 0.9897 - val_acc: 0.6615\n",
            "Epoch 32/50\n",
            "46/46 [==============================] - 8s 170ms/step - loss: 0.5285 - acc: 0.7854 - val_loss: 1.0032 - val_acc: 0.6749\n",
            "Epoch 33/50\n",
            "46/46 [==============================] - 8s 174ms/step - loss: 0.5196 - acc: 0.7929 - val_loss: 0.9660 - val_acc: 0.6728\n",
            "Epoch 34/50\n",
            "46/46 [==============================] - 8s 167ms/step - loss: 0.5183 - acc: 0.7965 - val_loss: 0.9340 - val_acc: 0.6708\n",
            "Epoch 35/50\n",
            "46/46 [==============================] - 8s 168ms/step - loss: 0.4922 - acc: 0.8141 - val_loss: 0.9649 - val_acc: 0.6646\n",
            "Epoch 36/50\n",
            "46/46 [==============================] - 8s 169ms/step - loss: 0.4790 - acc: 0.8190 - val_loss: 1.0273 - val_acc: 0.6698\n",
            "Epoch 37/50\n",
            "46/46 [==============================] - 8s 170ms/step - loss: 0.4773 - acc: 0.8115 - val_loss: 1.0248 - val_acc: 0.6584\n",
            "Epoch 38/50\n",
            "46/46 [==============================] - 8s 168ms/step - loss: 0.4757 - acc: 0.8172 - val_loss: 1.0347 - val_acc: 0.6759\n",
            "Epoch 39/50\n",
            "46/46 [==============================] - 8s 169ms/step - loss: 0.4717 - acc: 0.8238 - val_loss: 1.0076 - val_acc: 0.6955\n",
            "Epoch 40/50\n",
            "46/46 [==============================] - 8s 165ms/step - loss: 0.4696 - acc: 0.8247 - val_loss: 0.9768 - val_acc: 0.6852\n",
            "Epoch 41/50\n",
            "46/46 [==============================] - 8s 163ms/step - loss: 0.4740 - acc: 0.8132 - val_loss: 1.0007 - val_acc: 0.6770\n",
            "Epoch 42/50\n",
            "46/46 [==============================] - 8s 170ms/step - loss: 0.4744 - acc: 0.8137 - val_loss: 1.0340 - val_acc: 0.6790\n",
            "Epoch 43/50\n",
            "46/46 [==============================] - 8s 172ms/step - loss: 0.4357 - acc: 0.8331 - val_loss: 1.0166 - val_acc: 0.6656\n",
            "Epoch 44/50\n",
            "46/46 [==============================] - 8s 169ms/step - loss: 0.4206 - acc: 0.8375 - val_loss: 1.0554 - val_acc: 0.6698\n",
            "Epoch 45/50\n",
            "46/46 [==============================] - 8s 168ms/step - loss: 0.4439 - acc: 0.8256 - val_loss: 1.0388 - val_acc: 0.6656\n",
            "Epoch 46/50\n",
            "46/46 [==============================] - 8s 166ms/step - loss: 0.4305 - acc: 0.8327 - val_loss: 1.0150 - val_acc: 0.7037\n",
            "Epoch 47/50\n",
            "46/46 [==============================] - 8s 172ms/step - loss: 0.3989 - acc: 0.8499 - val_loss: 1.1903 - val_acc: 0.6770\n",
            "Epoch 48/50\n",
            "46/46 [==============================] - 8s 170ms/step - loss: 0.3908 - acc: 0.8543 - val_loss: 1.0649 - val_acc: 0.6811\n",
            "Epoch 49/50\n",
            "46/46 [==============================] - 8s 173ms/step - loss: 0.3860 - acc: 0.8517 - val_loss: 1.1120 - val_acc: 0.6708\n",
            "Epoch 50/50\n",
            "46/46 [==============================] - 8s 166ms/step - loss: 0.3898 - acc: 0.8570 - val_loss: 1.0445 - val_acc: 0.6944\n",
            "Score for fold 1: loss of 1.1130869388580322; acc of 66.0185158252716%\n",
            "------------------------------------------------------------------------\n",
            "Training for fold 2 ...\n",
            "Epoch 1/50\n",
            "46/46 [==============================] - 8s 171ms/step - loss: 0.6877 - acc: 0.7520 - val_loss: 0.9211 - val_acc: 0.6770\n",
            "Epoch 2/50\n",
            "46/46 [==============================] - 7s 163ms/step - loss: 0.6104 - acc: 0.7798 - val_loss: 0.8972 - val_acc: 0.6924\n",
            "Epoch 3/50\n",
            "46/46 [==============================] - 8s 170ms/step - loss: 0.5995 - acc: 0.7904 - val_loss: 0.8708 - val_acc: 0.6872\n",
            "Epoch 4/50\n",
            "46/46 [==============================] - 8s 171ms/step - loss: 0.5571 - acc: 0.7996 - val_loss: 0.9188 - val_acc: 0.6821\n",
            "Epoch 5/50\n",
            "46/46 [==============================] - 8s 172ms/step - loss: 0.5435 - acc: 0.8102 - val_loss: 0.9094 - val_acc: 0.6831\n",
            "Epoch 6/50\n",
            "46/46 [==============================] - 8s 172ms/step - loss: 0.5352 - acc: 0.8032 - val_loss: 0.8951 - val_acc: 0.6903\n",
            "Epoch 7/50\n",
            "46/46 [==============================] - 8s 172ms/step - loss: 0.5195 - acc: 0.8116 - val_loss: 0.9572 - val_acc: 0.6934\n",
            "Epoch 8/50\n",
            "46/46 [==============================] - 7s 163ms/step - loss: 0.5262 - acc: 0.8089 - val_loss: 0.9634 - val_acc: 0.6800\n",
            "Epoch 9/50\n",
            "46/46 [==============================] - 8s 164ms/step - loss: 0.5104 - acc: 0.8169 - val_loss: 0.9226 - val_acc: 0.6934\n",
            "Epoch 10/50\n",
            "46/46 [==============================] - 8s 173ms/step - loss: 0.4900 - acc: 0.8195 - val_loss: 1.0493 - val_acc: 0.6914\n",
            "Epoch 11/50\n",
            "46/46 [==============================] - 8s 167ms/step - loss: 0.4833 - acc: 0.8244 - val_loss: 0.9053 - val_acc: 0.6924\n",
            "Epoch 12/50\n",
            "46/46 [==============================] - 7s 161ms/step - loss: 0.4790 - acc: 0.8257 - val_loss: 0.9110 - val_acc: 0.6914\n",
            "Epoch 13/50\n",
            "46/46 [==============================] - 8s 169ms/step - loss: 0.4804 - acc: 0.8248 - val_loss: 0.8989 - val_acc: 0.6934\n",
            "Epoch 14/50\n",
            "46/46 [==============================] - 8s 169ms/step - loss: 0.4463 - acc: 0.8363 - val_loss: 0.9856 - val_acc: 0.6821\n",
            "Epoch 15/50\n",
            "46/46 [==============================] - 7s 163ms/step - loss: 0.4419 - acc: 0.8385 - val_loss: 0.9222 - val_acc: 0.6811\n",
            "Epoch 16/50\n",
            "46/46 [==============================] - 8s 168ms/step - loss: 0.4087 - acc: 0.8535 - val_loss: 0.9765 - val_acc: 0.6811\n",
            "Epoch 17/50\n",
            "46/46 [==============================] - 8s 165ms/step - loss: 0.4601 - acc: 0.8305 - val_loss: 0.9135 - val_acc: 0.6996\n",
            "Epoch 18/50\n",
            "46/46 [==============================] - 8s 169ms/step - loss: 0.4178 - acc: 0.8442 - val_loss: 0.9394 - val_acc: 0.6800\n",
            "Epoch 19/50\n",
            "46/46 [==============================] - 8s 166ms/step - loss: 0.4262 - acc: 0.8455 - val_loss: 0.9746 - val_acc: 0.6862\n",
            "Epoch 20/50\n",
            "46/46 [==============================] - 8s 168ms/step - loss: 0.4094 - acc: 0.8486 - val_loss: 0.9485 - val_acc: 0.6903\n",
            "Epoch 21/50\n",
            "46/46 [==============================] - 7s 163ms/step - loss: 0.3873 - acc: 0.8575 - val_loss: 1.0363 - val_acc: 0.6811\n",
            "Epoch 22/50\n",
            "46/46 [==============================] - 8s 167ms/step - loss: 0.3919 - acc: 0.8500 - val_loss: 1.0024 - val_acc: 0.6790\n",
            "Epoch 23/50\n",
            "46/46 [==============================] - 8s 166ms/step - loss: 0.3960 - acc: 0.8477 - val_loss: 0.9611 - val_acc: 0.6852\n",
            "Epoch 24/50\n",
            "46/46 [==============================] - 8s 166ms/step - loss: 0.3809 - acc: 0.8601 - val_loss: 1.0289 - val_acc: 0.6770\n",
            "Epoch 25/50\n",
            "46/46 [==============================] - 8s 166ms/step - loss: 0.3700 - acc: 0.8747 - val_loss: 0.9650 - val_acc: 0.6986\n",
            "Epoch 26/50\n",
            "46/46 [==============================] - 8s 169ms/step - loss: 0.3637 - acc: 0.8663 - val_loss: 1.0549 - val_acc: 0.6872\n",
            "Epoch 27/50\n",
            "46/46 [==============================] - 8s 168ms/step - loss: 0.3562 - acc: 0.8557 - val_loss: 1.0457 - val_acc: 0.6780\n",
            "Epoch 28/50\n",
            "46/46 [==============================] - 8s 165ms/step - loss: 0.3460 - acc: 0.8733 - val_loss: 1.0530 - val_acc: 0.6821\n",
            "Epoch 29/50\n",
            "46/46 [==============================] - 8s 166ms/step - loss: 0.3582 - acc: 0.8680 - val_loss: 0.9785 - val_acc: 0.6986\n",
            "Epoch 30/50\n",
            "46/46 [==============================] - 8s 168ms/step - loss: 0.3614 - acc: 0.8610 - val_loss: 0.9714 - val_acc: 0.6893\n",
            "Epoch 31/50\n",
            "46/46 [==============================] - 8s 172ms/step - loss: 0.3334 - acc: 0.8742 - val_loss: 1.1099 - val_acc: 0.6667\n",
            "Epoch 32/50\n",
            "46/46 [==============================] - 8s 173ms/step - loss: 0.3328 - acc: 0.8756 - val_loss: 1.0670 - val_acc: 0.6852\n",
            "Epoch 33/50\n",
            "46/46 [==============================] - 8s 169ms/step - loss: 0.3614 - acc: 0.8636 - val_loss: 1.0465 - val_acc: 0.6749\n",
            "Epoch 34/50\n",
            "46/46 [==============================] - 8s 173ms/step - loss: 0.3250 - acc: 0.8773 - val_loss: 1.0965 - val_acc: 0.6749\n",
            "Epoch 35/50\n",
            "46/46 [==============================] - 8s 173ms/step - loss: 0.3605 - acc: 0.8698 - val_loss: 1.0826 - val_acc: 0.6821\n",
            "Epoch 36/50\n",
            "46/46 [==============================] - 8s 168ms/step - loss: 0.3099 - acc: 0.8919 - val_loss: 1.0676 - val_acc: 0.6914\n",
            "Epoch 37/50\n",
            "46/46 [==============================] - 8s 166ms/step - loss: 0.3289 - acc: 0.8716 - val_loss: 1.1579 - val_acc: 0.6759\n",
            "Epoch 38/50\n",
            "46/46 [==============================] - 8s 174ms/step - loss: 0.3342 - acc: 0.8729 - val_loss: 1.1287 - val_acc: 0.6677\n",
            "Epoch 39/50\n",
            "46/46 [==============================] - 8s 172ms/step - loss: 0.3004 - acc: 0.8861 - val_loss: 1.0661 - val_acc: 0.6872\n",
            "Epoch 40/50\n",
            "46/46 [==============================] - 8s 169ms/step - loss: 0.2972 - acc: 0.8901 - val_loss: 1.1495 - val_acc: 0.6687\n",
            "Epoch 41/50\n",
            "46/46 [==============================] - 8s 165ms/step - loss: 0.3030 - acc: 0.8875 - val_loss: 1.0962 - val_acc: 0.6800\n",
            "Epoch 42/50\n",
            "46/46 [==============================] - 8s 171ms/step - loss: 0.3030 - acc: 0.8914 - val_loss: 1.1614 - val_acc: 0.6605\n",
            "Epoch 43/50\n",
            "46/46 [==============================] - 8s 174ms/step - loss: 0.2877 - acc: 0.8910 - val_loss: 1.1482 - val_acc: 0.6770\n",
            "Epoch 44/50\n",
            "46/46 [==============================] - 8s 173ms/step - loss: 0.2882 - acc: 0.8985 - val_loss: 1.1924 - val_acc: 0.6770\n",
            "Epoch 45/50\n",
            "46/46 [==============================] - 8s 168ms/step - loss: 0.2894 - acc: 0.8870 - val_loss: 1.2032 - val_acc: 0.6790\n",
            "Epoch 46/50\n",
            "46/46 [==============================] - 8s 174ms/step - loss: 0.2853 - acc: 0.8875 - val_loss: 1.1606 - val_acc: 0.6883\n",
            "Epoch 47/50\n",
            "46/46 [==============================] - 8s 164ms/step - loss: 0.2918 - acc: 0.8923 - val_loss: 1.1598 - val_acc: 0.6636\n",
            "Epoch 48/50\n",
            "46/46 [==============================] - 8s 168ms/step - loss: 0.2898 - acc: 0.8914 - val_loss: 1.1657 - val_acc: 0.6759\n",
            "Epoch 49/50\n",
            "46/46 [==============================] - 8s 164ms/step - loss: 0.2454 - acc: 0.9091 - val_loss: 1.2364 - val_acc: 0.6800\n",
            "Epoch 50/50\n",
            "46/46 [==============================] - 7s 163ms/step - loss: 0.2444 - acc: 0.9131 - val_loss: 1.2842 - val_acc: 0.6759\n",
            "Score for fold 2: loss of 0.7908068299293518; acc of 75.71825981140137%\n",
            "------------------------------------------------------------------------\n",
            "Training for fold 3 ...\n",
            "Epoch 1/50\n",
            "46/46 [==============================] - 8s 175ms/step - loss: 0.4676 - acc: 0.8248 - val_loss: 0.9891 - val_acc: 0.6975\n",
            "Epoch 2/50\n",
            "46/46 [==============================] - 8s 171ms/step - loss: 0.3729 - acc: 0.8694 - val_loss: 1.0307 - val_acc: 0.6944\n",
            "Epoch 3/50\n",
            "46/46 [==============================] - 8s 172ms/step - loss: 0.3962 - acc: 0.8486 - val_loss: 0.9779 - val_acc: 0.6996\n",
            "Epoch 4/50\n",
            "46/46 [==============================] - 8s 175ms/step - loss: 0.3503 - acc: 0.8650 - val_loss: 0.9751 - val_acc: 0.7088\n",
            "Epoch 5/50\n",
            "46/46 [==============================] - 8s 165ms/step - loss: 0.3556 - acc: 0.8650 - val_loss: 1.0575 - val_acc: 0.7037\n",
            "Epoch 6/50\n",
            "46/46 [==============================] - 8s 170ms/step - loss: 0.3548 - acc: 0.8654 - val_loss: 0.9880 - val_acc: 0.7099\n",
            "Epoch 7/50\n",
            "46/46 [==============================] - 8s 172ms/step - loss: 0.3414 - acc: 0.8711 - val_loss: 1.0221 - val_acc: 0.7109\n",
            "Epoch 8/50\n",
            "46/46 [==============================] - 8s 166ms/step - loss: 0.3349 - acc: 0.8711 - val_loss: 1.0539 - val_acc: 0.7006\n",
            "Epoch 9/50\n",
            "46/46 [==============================] - 8s 168ms/step - loss: 0.2865 - acc: 0.8919 - val_loss: 1.0415 - val_acc: 0.7202\n",
            "Epoch 10/50\n",
            "46/46 [==============================] - 8s 174ms/step - loss: 0.2787 - acc: 0.8989 - val_loss: 1.1352 - val_acc: 0.6934\n",
            "Epoch 11/50\n",
            "46/46 [==============================] - 8s 167ms/step - loss: 0.2953 - acc: 0.8831 - val_loss: 1.0696 - val_acc: 0.7037\n",
            "Epoch 12/50\n",
            "46/46 [==============================] - 8s 171ms/step - loss: 0.3274 - acc: 0.8725 - val_loss: 1.0283 - val_acc: 0.7016\n",
            "Epoch 13/50\n",
            "46/46 [==============================] - 8s 165ms/step - loss: 0.3160 - acc: 0.8733 - val_loss: 1.0053 - val_acc: 0.7233\n",
            "Epoch 14/50\n",
            "46/46 [==============================] - 8s 171ms/step - loss: 0.2836 - acc: 0.8923 - val_loss: 1.0261 - val_acc: 0.7099\n",
            "Epoch 15/50\n",
            "46/46 [==============================] - 8s 170ms/step - loss: 0.2810 - acc: 0.8906 - val_loss: 1.1190 - val_acc: 0.7150\n",
            "Epoch 16/50\n",
            "46/46 [==============================] - 7s 163ms/step - loss: 0.2869 - acc: 0.8932 - val_loss: 1.0756 - val_acc: 0.6996\n",
            "Epoch 17/50\n",
            "46/46 [==============================] - 9s 187ms/step - loss: 0.2797 - acc: 0.8906 - val_loss: 1.0761 - val_acc: 0.7078\n",
            "Epoch 18/50\n",
            "46/46 [==============================] - 8s 171ms/step - loss: 0.2629 - acc: 0.9047 - val_loss: 1.1130 - val_acc: 0.7058\n",
            "Epoch 19/50\n",
            "46/46 [==============================] - 8s 171ms/step - loss: 0.2632 - acc: 0.9020 - val_loss: 1.1746 - val_acc: 0.7016\n",
            "Epoch 20/50\n",
            "46/46 [==============================] - 8s 175ms/step - loss: 0.2603 - acc: 0.9060 - val_loss: 1.1042 - val_acc: 0.7006\n",
            "Epoch 21/50\n",
            "46/46 [==============================] - 8s 170ms/step - loss: 0.2625 - acc: 0.9016 - val_loss: 1.2046 - val_acc: 0.7027\n",
            "Epoch 22/50\n",
            "46/46 [==============================] - 8s 168ms/step - loss: 0.2620 - acc: 0.8981 - val_loss: 1.1952 - val_acc: 0.6903\n",
            "Epoch 23/50\n",
            "46/46 [==============================] - 8s 165ms/step - loss: 0.2628 - acc: 0.8981 - val_loss: 1.1046 - val_acc: 0.7047\n",
            "Epoch 24/50\n",
            "46/46 [==============================] - 8s 167ms/step - loss: 0.2558 - acc: 0.9003 - val_loss: 1.1173 - val_acc: 0.7006\n",
            "Epoch 25/50\n",
            "46/46 [==============================] - 8s 164ms/step - loss: 0.2587 - acc: 0.9025 - val_loss: 1.1142 - val_acc: 0.7047\n",
            "Epoch 26/50\n",
            "46/46 [==============================] - 8s 172ms/step - loss: 0.2874 - acc: 0.8959 - val_loss: 1.1320 - val_acc: 0.6965\n",
            "Epoch 27/50\n",
            "46/46 [==============================] - 8s 168ms/step - loss: 0.2641 - acc: 0.8981 - val_loss: 1.1524 - val_acc: 0.7006\n",
            "Epoch 28/50\n",
            "46/46 [==============================] - 8s 177ms/step - loss: 0.2452 - acc: 0.9086 - val_loss: 1.1132 - val_acc: 0.7068\n",
            "Epoch 29/50\n",
            "46/46 [==============================] - 8s 175ms/step - loss: 0.2432 - acc: 0.9113 - val_loss: 1.1302 - val_acc: 0.7006\n",
            "Epoch 30/50\n",
            "46/46 [==============================] - 8s 181ms/step - loss: 0.2724 - acc: 0.9003 - val_loss: 1.1315 - val_acc: 0.7027\n",
            "Epoch 31/50\n",
            "46/46 [==============================] - 8s 171ms/step - loss: 0.2770 - acc: 0.8981 - val_loss: 1.1643 - val_acc: 0.7047\n",
            "Epoch 32/50\n",
            "46/46 [==============================] - 8s 175ms/step - loss: 0.2224 - acc: 0.9179 - val_loss: 1.1792 - val_acc: 0.7068\n",
            "Epoch 33/50\n",
            "46/46 [==============================] - 7s 163ms/step - loss: 0.2109 - acc: 0.9250 - val_loss: 1.1978 - val_acc: 0.6965\n",
            "Epoch 34/50\n",
            "46/46 [==============================] - 8s 167ms/step - loss: 0.2351 - acc: 0.9170 - val_loss: 1.3032 - val_acc: 0.6862\n",
            "Epoch 35/50\n",
            "46/46 [==============================] - 8s 178ms/step - loss: 0.2490 - acc: 0.9069 - val_loss: 1.1565 - val_acc: 0.7006\n",
            "Epoch 36/50\n",
            "46/46 [==============================] - 8s 171ms/step - loss: 0.2142 - acc: 0.9329 - val_loss: 1.1382 - val_acc: 0.7006\n",
            "Epoch 37/50\n",
            "46/46 [==============================] - 8s 177ms/step - loss: 0.2270 - acc: 0.9144 - val_loss: 1.2017 - val_acc: 0.6996\n",
            "Epoch 38/50\n",
            "46/46 [==============================] - 8s 170ms/step - loss: 0.1919 - acc: 0.9312 - val_loss: 1.2215 - val_acc: 0.7068\n",
            "Epoch 39/50\n",
            "46/46 [==============================] - 8s 171ms/step - loss: 0.2209 - acc: 0.9139 - val_loss: 1.1798 - val_acc: 0.6944\n",
            "Epoch 40/50\n",
            "46/46 [==============================] - 8s 175ms/step - loss: 0.1817 - acc: 0.9320 - val_loss: 1.3759 - val_acc: 0.6924\n",
            "Epoch 41/50\n",
            "46/46 [==============================] - 8s 176ms/step - loss: 0.2039 - acc: 0.9254 - val_loss: 1.2034 - val_acc: 0.7058\n",
            "Epoch 42/50\n",
            "46/46 [==============================] - 8s 176ms/step - loss: 0.2087 - acc: 0.9219 - val_loss: 1.3427 - val_acc: 0.7088\n",
            "Epoch 43/50\n",
            "46/46 [==============================] - 8s 180ms/step - loss: 0.2154 - acc: 0.9210 - val_loss: 1.1620 - val_acc: 0.7119\n",
            "Epoch 44/50\n",
            "46/46 [==============================] - 8s 177ms/step - loss: 0.2034 - acc: 0.9263 - val_loss: 1.2012 - val_acc: 0.7109\n",
            "Epoch 45/50\n",
            "46/46 [==============================] - 8s 180ms/step - loss: 0.1985 - acc: 0.9237 - val_loss: 1.2074 - val_acc: 0.6934\n",
            "Epoch 46/50\n",
            "46/46 [==============================] - 8s 175ms/step - loss: 0.1955 - acc: 0.9263 - val_loss: 1.2529 - val_acc: 0.7088\n",
            "Epoch 47/50\n",
            "46/46 [==============================] - 8s 175ms/step - loss: 0.1953 - acc: 0.9276 - val_loss: 1.2555 - val_acc: 0.7037\n",
            "Epoch 48/50\n",
            "46/46 [==============================] - 8s 166ms/step - loss: 0.2048 - acc: 0.9272 - val_loss: 1.3649 - val_acc: 0.6872\n",
            "Epoch 49/50\n",
            "46/46 [==============================] - 8s 171ms/step - loss: 0.2171 - acc: 0.9259 - val_loss: 1.1895 - val_acc: 0.7130\n",
            "Epoch 50/50\n",
            "46/46 [==============================] - 8s 171ms/step - loss: 0.1949 - acc: 0.9276 - val_loss: 1.2251 - val_acc: 0.7191\n",
            "Score for fold 3: loss of 0.715048611164093; acc of 79.98146414756775%\n",
            "------------------------------------------------------------------------\n",
            "Training for fold 4 ...\n",
            "Epoch 1/50\n",
            "46/46 [==============================] - 8s 168ms/step - loss: 0.3472 - acc: 0.8733 - val_loss: 1.2189 - val_acc: 0.6728\n",
            "Epoch 2/50\n",
            "46/46 [==============================] - 8s 171ms/step - loss: 0.3171 - acc: 0.8888 - val_loss: 1.1990 - val_acc: 0.6862\n",
            "Epoch 3/50\n",
            "46/46 [==============================] - 8s 164ms/step - loss: 0.2755 - acc: 0.8923 - val_loss: 1.2504 - val_acc: 0.6831\n",
            "Epoch 4/50\n",
            "46/46 [==============================] - 8s 164ms/step - loss: 0.2716 - acc: 0.8945 - val_loss: 1.1860 - val_acc: 0.6914\n",
            "Epoch 5/50\n",
            "46/46 [==============================] - 7s 159ms/step - loss: 0.2743 - acc: 0.8998 - val_loss: 1.2837 - val_acc: 0.6698\n",
            "Epoch 6/50\n",
            "46/46 [==============================] - 8s 170ms/step - loss: 0.2699 - acc: 0.9003 - val_loss: 1.2793 - val_acc: 0.6780\n",
            "Epoch 7/50\n",
            "46/46 [==============================] - 7s 163ms/step - loss: 0.2527 - acc: 0.9056 - val_loss: 1.2082 - val_acc: 0.6811\n",
            "Epoch 8/50\n",
            "46/46 [==============================] - 8s 165ms/step - loss: 0.2535 - acc: 0.9082 - val_loss: 1.2766 - val_acc: 0.6821\n",
            "Epoch 9/50\n",
            "46/46 [==============================] - 8s 169ms/step - loss: 0.2547 - acc: 0.9038 - val_loss: 1.2178 - val_acc: 0.6903\n",
            "Epoch 10/50\n",
            "46/46 [==============================] - 8s 171ms/step - loss: 0.2425 - acc: 0.9126 - val_loss: 1.2690 - val_acc: 0.6821\n",
            "Epoch 11/50\n",
            "46/46 [==============================] - 8s 165ms/step - loss: 0.2465 - acc: 0.9095 - val_loss: 1.2643 - val_acc: 0.6780\n",
            "Epoch 12/50\n",
            "46/46 [==============================] - 8s 170ms/step - loss: 0.2568 - acc: 0.9047 - val_loss: 1.2408 - val_acc: 0.6903\n",
            "Epoch 13/50\n",
            "46/46 [==============================] - 8s 169ms/step - loss: 0.2012 - acc: 0.9259 - val_loss: 1.3257 - val_acc: 0.6852\n",
            "Epoch 14/50\n",
            "46/46 [==============================] - 8s 175ms/step - loss: 0.1963 - acc: 0.9294 - val_loss: 1.3192 - val_acc: 0.6903\n",
            "Epoch 15/50\n",
            "46/46 [==============================] - 8s 168ms/step - loss: 0.2169 - acc: 0.9184 - val_loss: 1.2948 - val_acc: 0.6852\n",
            "Epoch 16/50\n",
            "46/46 [==============================] - 8s 171ms/step - loss: 0.2134 - acc: 0.9263 - val_loss: 1.2804 - val_acc: 0.6944\n",
            "Epoch 17/50\n",
            "46/46 [==============================] - 8s 177ms/step - loss: 0.2198 - acc: 0.9206 - val_loss: 1.2444 - val_acc: 0.6944\n",
            "Epoch 18/50\n",
            "46/46 [==============================] - 8s 184ms/step - loss: 0.2390 - acc: 0.9170 - val_loss: 1.1951 - val_acc: 0.6903\n",
            "Epoch 19/50\n",
            "46/46 [==============================] - 8s 178ms/step - loss: 0.1851 - acc: 0.9365 - val_loss: 1.2976 - val_acc: 0.6842\n",
            "Epoch 20/50\n",
            "46/46 [==============================] - 8s 173ms/step - loss: 0.1794 - acc: 0.9369 - val_loss: 1.3185 - val_acc: 0.6800\n",
            "Epoch 21/50\n",
            "46/46 [==============================] - 7s 163ms/step - loss: 0.2084 - acc: 0.9272 - val_loss: 1.3069 - val_acc: 0.6790\n",
            "Epoch 22/50\n",
            "46/46 [==============================] - 8s 167ms/step - loss: 0.1908 - acc: 0.9303 - val_loss: 1.3191 - val_acc: 0.6975\n",
            "Epoch 23/50\n",
            "46/46 [==============================] - 8s 182ms/step - loss: 0.1717 - acc: 0.9351 - val_loss: 1.5192 - val_acc: 0.6584\n",
            "Epoch 24/50\n",
            "46/46 [==============================] - 9s 186ms/step - loss: 0.2018 - acc: 0.9281 - val_loss: 1.3431 - val_acc: 0.6790\n",
            "Epoch 25/50\n",
            "46/46 [==============================] - 9s 187ms/step - loss: 0.1862 - acc: 0.9276 - val_loss: 1.3677 - val_acc: 0.6883\n",
            "Epoch 26/50\n",
            "46/46 [==============================] - 8s 178ms/step - loss: 0.2046 - acc: 0.9259 - val_loss: 1.3897 - val_acc: 0.6739\n",
            "Epoch 27/50\n",
            "46/46 [==============================] - 8s 179ms/step - loss: 0.2130 - acc: 0.9254 - val_loss: 1.4151 - val_acc: 0.6872\n",
            "Epoch 28/50\n",
            "46/46 [==============================] - 8s 172ms/step - loss: 0.1942 - acc: 0.9241 - val_loss: 1.3399 - val_acc: 0.6862\n",
            "Epoch 29/50\n",
            "46/46 [==============================] - 9s 189ms/step - loss: 0.1899 - acc: 0.9254 - val_loss: 1.3536 - val_acc: 0.6749\n",
            "Epoch 30/50\n",
            "46/46 [==============================] - 8s 179ms/step - loss: 0.1928 - acc: 0.9276 - val_loss: 1.4804 - val_acc: 0.6903\n",
            "Epoch 31/50\n",
            "46/46 [==============================] - 8s 176ms/step - loss: 0.1922 - acc: 0.9294 - val_loss: 1.3404 - val_acc: 0.6965\n",
            "Epoch 32/50\n",
            "46/46 [==============================] - 8s 174ms/step - loss: 0.2234 - acc: 0.9179 - val_loss: 1.2712 - val_acc: 0.6790\n",
            "Epoch 33/50\n",
            "46/46 [==============================] - 8s 171ms/step - loss: 0.1670 - acc: 0.9431 - val_loss: 1.3544 - val_acc: 0.6821\n",
            "Epoch 34/50\n",
            "46/46 [==============================] - 8s 181ms/step - loss: 0.1756 - acc: 0.9391 - val_loss: 1.4381 - val_acc: 0.6893\n",
            "Epoch 35/50\n",
            "46/46 [==============================] - 8s 175ms/step - loss: 0.1829 - acc: 0.9365 - val_loss: 1.3917 - val_acc: 0.6780\n",
            "Epoch 36/50\n",
            "46/46 [==============================] - 9s 193ms/step - loss: 0.1514 - acc: 0.9462 - val_loss: 1.4384 - val_acc: 0.6883\n",
            "Epoch 37/50\n",
            "46/46 [==============================] - 8s 181ms/step - loss: 0.1786 - acc: 0.9356 - val_loss: 1.4890 - val_acc: 0.6728\n",
            "Epoch 38/50\n",
            "46/46 [==============================] - 8s 174ms/step - loss: 0.1621 - acc: 0.9431 - val_loss: 1.5176 - val_acc: 0.6667\n",
            "Epoch 39/50\n",
            "46/46 [==============================] - 8s 174ms/step - loss: 0.1766 - acc: 0.9356 - val_loss: 1.4198 - val_acc: 0.6811\n",
            "Epoch 40/50\n",
            "46/46 [==============================] - 8s 176ms/step - loss: 0.1422 - acc: 0.9470 - val_loss: 1.4885 - val_acc: 0.6821\n",
            "Epoch 41/50\n",
            "46/46 [==============================] - 8s 173ms/step - loss: 0.1936 - acc: 0.9237 - val_loss: 1.4099 - val_acc: 0.6821\n",
            "Epoch 42/50\n",
            "46/46 [==============================] - 8s 176ms/step - loss: 0.1831 - acc: 0.9347 - val_loss: 1.4072 - val_acc: 0.6883\n",
            "Epoch 43/50\n",
            "46/46 [==============================] - 8s 176ms/step - loss: 0.1521 - acc: 0.9453 - val_loss: 1.4354 - val_acc: 0.6914\n",
            "Epoch 44/50\n",
            "46/46 [==============================] - 8s 174ms/step - loss: 0.1568 - acc: 0.9444 - val_loss: 1.5246 - val_acc: 0.6708\n",
            "Epoch 45/50\n",
            "46/46 [==============================] - 8s 173ms/step - loss: 0.2005 - acc: 0.9267 - val_loss: 1.3895 - val_acc: 0.6790\n",
            "Epoch 46/50\n",
            "46/46 [==============================] - 7s 161ms/step - loss: 0.1695 - acc: 0.9422 - val_loss: 1.3592 - val_acc: 0.6893\n",
            "Epoch 47/50\n",
            "46/46 [==============================] - 8s 177ms/step - loss: 0.1769 - acc: 0.9391 - val_loss: 1.5370 - val_acc: 0.6883\n",
            "Epoch 48/50\n",
            "46/46 [==============================] - 8s 176ms/step - loss: 0.1550 - acc: 0.9440 - val_loss: 1.5188 - val_acc: 0.6852\n",
            "Epoch 49/50\n",
            "46/46 [==============================] - 8s 171ms/step - loss: 0.1687 - acc: 0.9431 - val_loss: 1.4370 - val_acc: 0.6975\n",
            "Epoch 50/50\n",
            "46/46 [==============================] - 8s 172ms/step - loss: 0.1944 - acc: 0.9320 - val_loss: 1.4115 - val_acc: 0.6790\n",
            "Score for fold 4: loss of 0.5640923976898193; acc of 86.74699068069458%\n",
            "------------------------------------------------------------------------\n",
            "Score per fold\n",
            "------------------------------------------------------------------------\n",
            "> Fold 1 - Loss: 1.1130869388580322 - Accuracy: 66.0185158252716%\n",
            "------------------------------------------------------------------------\n",
            "> Fold 2 - Loss: 0.7908068299293518 - Accuracy: 75.71825981140137%\n",
            "------------------------------------------------------------------------\n",
            "> Fold 3 - Loss: 0.715048611164093 - Accuracy: 79.98146414756775%\n",
            "------------------------------------------------------------------------\n",
            "> Fold 4 - Loss: 0.5640923976898193 - Accuracy: 86.74699068069458%\n",
            "------------------------------------------------------------------------\n",
            "Average scores for all folds:\n",
            "> Accuracy: 77.11630761623383 (+- 7.517890304754418)\n",
            "> Loss: 0.7957586944103241\n",
            "------------------------------------------------------------------------\n"
          ],
          "name": "stdout"
        }
      ]
    },
    {
      "cell_type": "code",
      "metadata": {
        "id": "UOVbUXyzTbnq"
      },
      "source": [
        "from tensorflow.keras.models import Sequential, save_model, load_model\n",
        "# Save the model\n",
        "filepath = './saved_model'\n",
        "save_model(model, filepath, save_format='h5')\n"
      ],
      "execution_count": 34,
      "outputs": []
    },
    {
      "cell_type": "code",
      "metadata": {
        "id": "JaDl46OhS3J8"
      },
      "source": [
        "# Load the model\n",
        "loaded_model = load_model(\n",
        "    filepath,\n",
        "    custom_objects=None,\n",
        "    compile=True\n",
        ")"
      ],
      "execution_count": 35,
      "outputs": []
    },
    {
      "cell_type": "code",
      "metadata": {
        "colab": {
          "base_uri": "https://localhost:8080/",
          "height": 295
        },
        "id": "JtjGkfslOw5V",
        "outputId": "bf789c23-3204-4ed0-c022-253ea25ae39c"
      },
      "source": [
        "# summarize history for accuracy\n",
        "plt.plot(history.history['acc'])\n",
        "plt.plot(history.history['val_acc'])\n",
        "plt.title('model accuracy')\n",
        "plt.ylabel('accuracy')\n",
        "plt.xlabel('epoch')\n",
        "plt.legend(['train', 'test'], loc='upper left')\n",
        "plt.show()"
      ],
      "execution_count": 26,
      "outputs": [
        {
          "output_type": "display_data",
          "data": {
            "image/png": "[encoded data removed]",
            "text/plain": [
              "<Figure size 432x288 with 1 Axes>"
            ]
          },
          "metadata": {
            "tags": [],
            "needs_background": "light"
          }
        }
      ]
    },
    {
      "cell_type": "code",
      "metadata": {
        "colab": {
          "base_uri": "https://localhost:8080/",
          "height": 295
        },
        "id": "z03FEfqDO_Sz",
        "outputId": "153a7a8a-18ec-4f2e-febf-76f1e2b18bc3"
      },
      "source": [
        "# summarize history for loss\n",
        "plt.plot(history.history['loss'])\n",
        "plt.plot(history.history['val_loss'])\n",
        "plt.title('model loss')\n",
        "plt.ylabel('loss')\n",
        "plt.xlabel('epoch')\n",
        "plt.legend(['train', 'test'], loc='upper left')\n",
        "plt.show()"
      ],
      "execution_count": 27,
      "outputs": [
        {
          "output_type": "display_data",
          "data": {
            "image/png": "[encoded data removed]",
            "text/plain": [
              "<Figure size 432x288 with 1 Axes>"
            ]
          },
          "metadata": {
            "tags": [],
            "needs_background": "light"
          }
        }
      ]
    },
    {
      "cell_type": "code",
      "metadata": {
        "colab": {
          "resources": {
            "http://localhost:8080/nbextensions/google.colab/files.js": {
              "data": "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",
              "ok": true,
              "headers": [
                [
                  "content-type",
                  "application/javascript"
                ]
              ],
              "status": 200,
              "status_text": ""
            }
          },
          "base_uri": "https://localhost:8080/",
          "height": 56
        },
        "id": "1T5bin-QPMuz",
        "outputId": "7dafbcf4-5601-415d-e0b4-0208fe28ced9"
      },
      "source": [
        "#Let’s test the model by loading a new image.\n",
        "from google.colab import files\n",
        "uploaded=files.upload()"
      ],
      "execution_count": 30,
      "outputs": [
        {
          "output_type": "display_data",
          "data": {
            "text/html": [
              "\n",
              "     <input type=\"file\" id=\"files-1b1fdc80-cc3c-48c9-819b-805a4ca073f6\" name=\"files[]\" multiple disabled\n",
              "        style=\"border:none\" />\n",
              "     <output id=\"result-1b1fdc80-cc3c-48c9-819b-805a4ca073f6\">\n",
              "      Upload widget is only available when the cell has been executed in the\n",
              "      current browser session. Please rerun this cell to enable.\n",
              "      </output>\n",
              "      <script src=\"/nbextensions/google.colab/files.js\"></script> "
            ],
            "text/plain": [
              "<IPython.core.display.HTML object>"
            ]
          },
          "metadata": {
            "tags": []
          }
        },
        {
          "output_type": "stream",
          "text": [
            "Saving sunflower.jpg to sunflower.jpg\n"
          ],
          "name": "stdout"
        }
      ]
    },
    {
      "cell_type": "code",
      "metadata": {
        "colab": {
          "base_uri": "https://localhost:8080/",
          "height": 350
        },
        "id": "iFUbyH-WPWCG",
        "outputId": "fd564e80-5f04-4126-cc42-a85c49202547"
      },
      "source": [
        "new_image=plt.imread(\"/content/sunflower.jpg\")\n",
        "plt.imshow(new_image)\n",
        "from skimage.transform import resize\n",
        "import numpy as np\n",
        "new_resize=resize(new_image,(32,32,3))\n",
        "plt.imshow(new_resize)\n",
        "probabilities=loaded_model.predict(np.array([new_resize,]))\n",
        "i=0\n",
        "for i in range(5):\n",
        "  print(folders[i],':',round(probabilities[0][i]*100,2),\"%\")"
      ],
      "execution_count": 39,
      "outputs": [
        {
          "output_type": "stream",
          "text": [
            "daisy : 0.0 %\n",
            "dandelion : 0.0 %\n",
            "rose : 0.0 %\n",
            "sunflower : 100.0 %\n",
            "tulip : 0.0 %\n"
          ],
          "name": "stdout"
        },
        {
          "output_type": "display_data",
          "data": {
            "image/png": "[encoded data removed]",
            "text/plain": [
              "<Figure size 432x288 with 1 Axes>"
            ]
          },
          "metadata": {
            "tags": [],
            "needs_background": "light"
          }
        }
      ]
    },
    {
      "cell_type": "code",
      "metadata": {
        "colab": {
          "base_uri": "https://localhost:8080/",
          "height": 513
        },
        "id": "9toFBQ6bPb-C",
        "outputId": "4d192087-1d6e-4f0e-f0ad-555bbcfb7d0c"
      },
      "source": [
        "from sklearn.metrics import confusion_matrix\n",
        "import seaborn as sns\n",
        "y_pred=model_flower.predict(X_test1)\n",
        "y_pred_classes=np.argmax(y_pred,axis=1)\n",
        "y_true=np.argmax(y_test_one_hot,axis=1)\n",
        "confusion_mtx=confusion_matrix(y_true,y_pred_classes)\n",
        "f,ax=plt.subplots(figsize=(8,8))\n",
        "sns.heatmap(confusion_mtx,annot=True,linewidths = 0.01,cmap=\"Reds\",\n",
        "            linecolor = \"gray\",fmt = \".2f\",ax=ax\n",
        "            )\n",
        "plt.xlabel(\"predicted label\")\n",
        "plt.ylabel(\"True Label\")\n",
        "plt.title(\"confusion matrix\")\n",
        "plt.show()\n"
      ],
      "execution_count": 40,
      "outputs": [
        {
          "output_type": "display_data",
          "data": {
            "image/png": "[encoded data removed]",
            "text/plain": [
              "<Figure size 576x576 with 2 Axes>"
            ]
          },
          "metadata": {
            "tags": [],
            "needs_background": "light"
          }
        }
      ]
    }
  ]
}