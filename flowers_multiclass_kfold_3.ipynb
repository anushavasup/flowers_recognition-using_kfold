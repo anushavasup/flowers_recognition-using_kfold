{
  "nbformat": 4,
  "nbformat_minor": 0,
  "metadata": {
    "colab": {
      "name": "flowers_multiclass_kfold_3.ipynb",
      "provenance": [],
      "collapsed_sections": [],
      "authorship_tag": "ABX9TyNpxEM4HJbp37sV3fJ8kQNZ",
      "include_colab_link": true
    },
    "kernelspec": {
      "name": "python3",
      "display_name": "Python 3"
    },
    "language_info": {
      "name": "python"
    }
  },
  "cells": [
    {
      "cell_type": "markdown",
      "metadata": {
        "id": "view-in-github",
        "colab_type": "text"
      },
      "source": [
        "<a href=\"https://colab.research.google.com/github/anushavasup/flowers_recognition-using_kfold/blob/main/flowers_multiclass_kfold_3.ipynb\" target=\"_parent\"><img src=\"https://colab.research.google.com/assets/colab-badge.svg\" alt=\"Open In Colab\"/></a>"
      ]
    },
    {
      "cell_type": "code",
      "metadata": {
        "colab": {
          "base_uri": "https://localhost:8080/"
        },
        "id": "4ICbtL0fvy4g",
        "outputId": "8d229399-8df6-488f-a1e5-bbd22732f254"
      },
      "source": [
        "from google.colab import drive\n",
        "drive.mount('/content/drive/')"
      ],
      "execution_count": 1,
      "outputs": [
        {
          "output_type": "stream",
          "text": [
            "Mounted at /content/drive/\n"
          ],
          "name": "stdout"
        }
      ]
    },
    {
      "cell_type": "code",
      "metadata": {
        "colab": {
          "base_uri": "https://localhost:8080/"
        },
        "id": "guhIHyXsv_IH",
        "outputId": "7490eafe-5746-491b-c880-5174fb18889e"
      },
      "source": [
        "from zipfile import ZipFile\n",
        "file_name = '/content/drive/MyDrive/flowers.zip'\n",
        "with ZipFile(file_name, 'r') as zip:\n",
        "  zip.extractall()\n",
        "  print('Done')"
      ],
      "execution_count": 2,
      "outputs": [
        {
          "output_type": "stream",
          "text": [
            "Done\n"
          ],
          "name": "stdout"
        }
      ]
    },
    {
      "cell_type": "code",
      "metadata": {
        "id": "qozqyE8kwc8i"
      },
      "source": [
        "import numpy as np \n",
        "import pandas as pd \n",
        "import os\n",
        "import matplotlib.pyplot as plt\n",
        "import cv2\n",
        "from tensorflow.keras.utils import to_categorical\n",
        "from keras.layers import Dense,Conv2D,Flatten,MaxPool2D,Dropout\n",
        "from keras.models import Sequential\n",
        "from sklearn.model_selection import train_test_split\n",
        "import tensorflow as tf\n"
      ],
      "execution_count": 3,
      "outputs": []
    },
    {
      "cell_type": "code",
      "metadata": {
        "id": "DnlLR6xDnzD1"
      },
      "source": [
        "import tensorflow as tf\n",
        "from tensorflow.keras import layers\n",
        "data_augmentation = tf.keras.Sequential(\n",
        "  [\n",
        "    layers.experimental.preprocessing.RandomFlip(\"horizontal\", \n",
        "                                                 input_shape=(32, \n",
        "                                                              32,\n",
        "                                                              3)),\n",
        "    layers.experimental.preprocessing.RandomRotation(0.1),\n",
        "    layers.experimental.preprocessing.RandomZoom(0.1),\n",
        "  ]\n",
        ")"
      ],
      "execution_count": 6,
      "outputs": []
    },
    {
      "cell_type": "code",
      "metadata": {
        "id": "W7jMSFpQw7av"
      },
      "source": [
        "import glob \n",
        "import cv2\n",
        "from skimage.transform import resize\n",
        "folders=['daisy','dandelion','rose','sunflower','tulip']\n",
        "X=[]#feature dataset\n",
        "y=[]#target data set\n",
        "#loop through everyfolder\n",
        "for folder in folders:\n",
        "  path='/content/flowers/'+folder+'/*.jpg'\n",
        "  files=glob.glob(path)\n",
        "  for myfile in files:\n",
        "    image=cv2.imread(myfile)\n",
        "    image=cv2.cvtColor(image,cv2.COLOR_BGR2RGB)\n",
        "    image=resize(image,(32,32,3))\n",
        "    \n",
        "    X.append(image)\n",
        "    y.append(folder)\n",
        "    #print(image.shape)\n",
        "    image = tf.expand_dims(image, 0)\n",
        "    augmented_image=data_augmentation(image)\n",
        "    augmented_image=tf.reshape(augmented_image,(32,32,3))\n",
        "    #print(augmented_image)\n",
        "    X.append(augmented_image)\n",
        "    y.append(folder)"
      ],
      "execution_count": 7,
      "outputs": []
    },
    {
      "cell_type": "code",
      "metadata": {
        "colab": {
          "base_uri": "https://localhost:8080/"
        },
        "id": "5BzCz9jgPy9c",
        "outputId": "f4e4e36e-d815-478a-892b-c3f7067e149a"
      },
      "source": [
        "len(y)"
      ],
      "execution_count": null,
      "outputs": [
        {
          "output_type": "execute_result",
          "data": {
            "text/plain": [
              "4317"
            ]
          },
          "metadata": {
            "tags": []
          },
          "execution_count": 8
        }
      ]
    },
    {
      "cell_type": "code",
      "metadata": {
        "id": "YKf2a5KxyP1g"
      },
      "source": [
        "from sklearn.model_selection import train_test_split\n",
        "X_train,X_test,y_train,y_test=train_test_split(X,y,test_size=0.2,random_state=42)"
      ],
      "execution_count": 8,
      "outputs": []
    },
    {
      "cell_type": "code",
      "metadata": {
        "colab": {
          "base_uri": "https://localhost:8080/"
        },
        "id": "l_bfrE4qz_fJ",
        "outputId": "975f22b8-e333-4148-9c9b-bacf1e09bbfd"
      },
      "source": [
        "from sklearn.preprocessing import LabelEncoder\n",
        "y_train=LabelEncoder().fit_transform(y_train)\n",
        "y_test=LabelEncoder().fit_transform(y_test)\n",
        "print(y_train)\n"
      ],
      "execution_count": 9,
      "outputs": [
        {
          "output_type": "stream",
          "text": [
            "[4 3 3 ... 3 0 4]\n"
          ],
          "name": "stdout"
        }
      ]
    },
    {
      "cell_type": "code",
      "metadata": {
        "colab": {
          "base_uri": "https://localhost:8080/"
        },
        "id": "wMmuy7As0Dw3",
        "outputId": "36328fa5-409b-427d-9ea2-91e22311a6d7"
      },
      "source": [
        "from tensorflow.keras.utils import to_categorical\n",
        "from tensorflow.keras import layers\n",
        "y_train_one_hot=to_categorical(y_train)\n",
        "y_test_one_hot=to_categorical(y_test)\n",
        "normalization_layer = layers.experimental.preprocessing.Rescaling(1./255)\n",
        "X_train1=np.array(X_train)\n",
        "X_test1=np.array(X_test)\n",
        "print(type(X_test1))\n",
        "print(np.max(X_test1[3]))"
      ],
      "execution_count": 11,
      "outputs": [
        {
          "output_type": "stream",
          "text": [
            "<class 'numpy.ndarray'>\n",
            "0.9045701026916504\n"
          ],
          "name": "stdout"
        }
      ]
    },
    {
      "cell_type": "code",
      "metadata": {
        "colab": {
          "base_uri": "https://localhost:8080/"
        },
        "id": "-6v8uO-_wF6K",
        "outputId": "2f2a4531-8ce6-4da4-adf8-aa95409bded8"
      },
      "source": [
        "from sklearn.model_selection import KFold\n",
        "num_folds = 4\n",
        "verbosity = 1\n",
        "\n",
        "# Normalize data\n",
        "#input_train = input_train / 255\n",
        "#input_test = input_test / 255\n",
        "# Parse numbers as floats\n",
        "#X_train1 = X_train1.astype('float32')\n",
        "#X_test1 = X_test1.astype('float32')\n",
        "# Define per-fold score containers <-- these are new\n",
        "acc_per_fold = []\n",
        "loss_per_fold = []\n",
        "#inputs = np.concatenate((X_train1, X_test1), axis=0)\n",
        "#targets = np.concatenate((y_train_one_hot, y_test_one_hot), axis=0)\n",
        "inputs=X_train1\n",
        "targets=y_train_one_hot\n",
        "# Define the K-fold Cross Validator\n",
        "kfold = KFold(n_splits=num_folds, shuffle=True)\n",
        "fold_no = 1\n",
        "for train, test in kfold.split(inputs, targets):\n",
        "  import keras\n",
        "\n",
        "# Creating a Sequential model\n",
        "  model_flower= Sequential()\n",
        "#model.add(data_augmentation)\n",
        "  model_flower.add(Conv2D(kernel_size=(3,3), filters=32, activation='relu', input_shape=(32,32,3)))\n",
        "  model_flower.add(Dropout(0.2))\n",
        "\n",
        "  model_flower.add(Conv2D(filters=30,kernel_size = (3,3),activation='relu'))\n",
        "  model_flower.add(MaxPool2D(2,2))\n",
        "  model_flower.add(Dropout(0.2))\n",
        "\n",
        "  model_flower.add(Conv2D(filters=30,kernel_size = (3,3),activation='relu'))\n",
        "  model_flower.add(MaxPool2D(2,2))\n",
        "  model_flower.add(Dropout(0.2))\n",
        "\n",
        "  model_flower.add(Conv2D(filters=30,kernel_size = (3,3),activation='relu'))\n",
        "  model_flower.add(Dropout(0.2))\n",
        "\n",
        "  model_flower.add(Flatten())\n",
        "\n",
        "  model_flower.add(Dense(1024,activation='tanh'))\n",
        "  model_flower.add(Dropout(0.2))\n",
        "  model_flower.add(Dense(512,activation='tanh'))\n",
        "#model_flower.add(Dense(32,activation='relu'))\n",
        "\n",
        "  model_flower.add(Dense(5,activation = 'softmax'))\n",
        "\n",
        "#optimizer = keras.optimizers.Adam(lr=0.1)   \n",
        "  model_flower.compile(\n",
        "              loss='categorical_crossentropy', \n",
        "              metrics=['acc'],\n",
        "              optimizer='adam',\n",
        "              \n",
        "             )\n",
        "  # Generate a print\n",
        "  print('------------------------------------------------------------------------')\n",
        "  print(f'Training for fold {fold_no} ...')\n",
        "\n",
        "  # Fit data to model\n",
        "  # Training the model\n",
        "  history = model_flower.fit(inputs[train], targets[train],epochs=50,batch_size=50,verbose=verbosity)\n",
        "\n",
        "  # Generate generalization metrics\n",
        "  scores = model_flower.evaluate(inputs[test], targets[test], verbose=0)\n",
        "  print(f'Score for fold {fold_no}: {model_flower.metrics_names[0]} of {scores[0]}; {model_flower.metrics_names[1]} of {scores[1]*100}%')\n",
        "  acc_per_fold.append(scores[1] * 100)\n",
        "  loss_per_fold.append(scores[0])\n",
        "\n",
        "  # Increase fold number\n",
        "  fold_no = fold_no + 1\n",
        "# == Provide average scores ==\n",
        "print('------------------------------------------------------------------------')\n",
        "print('Score per fold')\n",
        "for i in range(0, len(acc_per_fold)):\n",
        "  print('------------------------------------------------------------------------')\n",
        "  print(f'> Fold {i+1} - Loss: {loss_per_fold[i]} - Accuracy: {acc_per_fold[i]}%')\n",
        "print('------------------------------------------------------------------------')\n",
        "print('Average scores for all folds:')\n",
        "print(f'> Accuracy: {np.mean(acc_per_fold)} (+- {np.std(acc_per_fold)})')\n",
        "print(f'> Loss: {np.mean(loss_per_fold)}')\n",
        "print('------------------------------------------------------------------------')\n",
        "\n",
        "\n",
        "\n"
      ],
      "execution_count": 13,
      "outputs": [
        {
          "output_type": "stream",
          "text": [
            "------------------------------------------------------------------------\n",
            "Training for fold 1 ...\n",
            "Epoch 1/50\n",
            "104/104 [==============================] - 18s 159ms/step - loss: 1.4768 - acc: 0.3359\n",
            "Epoch 2/50\n",
            "104/104 [==============================] - 17s 160ms/step - loss: 1.2371 - acc: 0.4622\n",
            "Epoch 3/50\n",
            "104/104 [==============================] - 17s 161ms/step - loss: 1.1643 - acc: 0.5135\n",
            "Epoch 4/50\n",
            "104/104 [==============================] - 17s 161ms/step - loss: 1.0953 - acc: 0.5551\n",
            "Epoch 5/50\n",
            "104/104 [==============================] - 17s 161ms/step - loss: 1.0303 - acc: 0.5827\n",
            "Epoch 6/50\n",
            "104/104 [==============================] - 17s 161ms/step - loss: 0.9832 - acc: 0.6034\n",
            "Epoch 7/50\n",
            "104/104 [==============================] - 17s 160ms/step - loss: 0.9551 - acc: 0.6261\n",
            "Epoch 8/50\n",
            "104/104 [==============================] - 17s 159ms/step - loss: 0.9353 - acc: 0.6276\n",
            "Epoch 9/50\n",
            "104/104 [==============================] - 17s 159ms/step - loss: 0.8876 - acc: 0.6543\n",
            "Epoch 10/50\n",
            "104/104 [==============================] - 17s 160ms/step - loss: 0.8599 - acc: 0.6709\n",
            "Epoch 11/50\n",
            "104/104 [==============================] - 16s 158ms/step - loss: 0.8110 - acc: 0.6851\n",
            "Epoch 12/50\n",
            "104/104 [==============================] - 17s 161ms/step - loss: 0.8193 - acc: 0.6913\n",
            "Epoch 13/50\n",
            "104/104 [==============================] - 17s 161ms/step - loss: 0.8123 - acc: 0.6888\n",
            "Epoch 14/50\n",
            "104/104 [==============================] - 17s 161ms/step - loss: 0.7640 - acc: 0.7072\n",
            "Epoch 15/50\n",
            "104/104 [==============================] - 17s 160ms/step - loss: 0.7632 - acc: 0.7001\n",
            "Epoch 16/50\n",
            "104/104 [==============================] - 17s 162ms/step - loss: 0.7826 - acc: 0.6959\n",
            "Epoch 17/50\n",
            "104/104 [==============================] - 17s 160ms/step - loss: 0.7493 - acc: 0.7018\n",
            "Epoch 18/50\n",
            "104/104 [==============================] - 17s 160ms/step - loss: 0.7247 - acc: 0.7364\n",
            "Epoch 19/50\n",
            "104/104 [==============================] - 17s 160ms/step - loss: 0.7249 - acc: 0.7217\n",
            "Epoch 20/50\n",
            "104/104 [==============================] - 17s 160ms/step - loss: 0.6977 - acc: 0.7294\n",
            "Epoch 21/50\n",
            "104/104 [==============================] - 17s 160ms/step - loss: 0.7141 - acc: 0.7306\n",
            "Epoch 22/50\n",
            "104/104 [==============================] - 17s 159ms/step - loss: 0.6844 - acc: 0.7390\n",
            "Epoch 23/50\n",
            "104/104 [==============================] - 17s 160ms/step - loss: 0.6802 - acc: 0.7483\n",
            "Epoch 24/50\n",
            "104/104 [==============================] - 17s 160ms/step - loss: 0.6725 - acc: 0.7440\n",
            "Epoch 25/50\n",
            "104/104 [==============================] - 17s 160ms/step - loss: 0.6427 - acc: 0.7560\n",
            "Epoch 26/50\n",
            "104/104 [==============================] - 17s 159ms/step - loss: 0.6182 - acc: 0.7590\n",
            "Epoch 27/50\n",
            "104/104 [==============================] - 17s 159ms/step - loss: 0.6170 - acc: 0.7642\n",
            "Epoch 28/50\n",
            "104/104 [==============================] - 17s 160ms/step - loss: 0.6185 - acc: 0.7596\n",
            "Epoch 29/50\n",
            "104/104 [==============================] - 17s 159ms/step - loss: 0.6241 - acc: 0.7614\n",
            "Epoch 30/50\n",
            "104/104 [==============================] - 17s 160ms/step - loss: 0.6199 - acc: 0.7585\n",
            "Epoch 31/50\n",
            "104/104 [==============================] - 17s 160ms/step - loss: 0.5938 - acc: 0.7740\n",
            "Epoch 32/50\n",
            "104/104 [==============================] - 16s 158ms/step - loss: 0.6245 - acc: 0.7570\n",
            "Epoch 33/50\n",
            "104/104 [==============================] - 17s 159ms/step - loss: 0.5820 - acc: 0.7896\n",
            "Epoch 34/50\n",
            "104/104 [==============================] - 16s 158ms/step - loss: 0.6053 - acc: 0.7674\n",
            "Epoch 35/50\n",
            "104/104 [==============================] - 17s 159ms/step - loss: 0.5948 - acc: 0.7688\n",
            "Epoch 36/50\n",
            "104/104 [==============================] - 17s 160ms/step - loss: 0.5777 - acc: 0.7805\n",
            "Epoch 37/50\n",
            "104/104 [==============================] - 17s 160ms/step - loss: 0.5700 - acc: 0.7813\n",
            "Epoch 38/50\n",
            "104/104 [==============================] - 17s 160ms/step - loss: 0.5485 - acc: 0.7901\n",
            "Epoch 39/50\n",
            "104/104 [==============================] - 17s 160ms/step - loss: 0.5250 - acc: 0.7994\n",
            "Epoch 40/50\n",
            "104/104 [==============================] - 17s 160ms/step - loss: 0.5277 - acc: 0.8049\n",
            "Epoch 41/50\n",
            "104/104 [==============================] - 17s 160ms/step - loss: 0.5101 - acc: 0.8079\n",
            "Epoch 42/50\n",
            "104/104 [==============================] - 17s 161ms/step - loss: 0.5239 - acc: 0.7988\n",
            "Epoch 43/50\n",
            "104/104 [==============================] - 17s 161ms/step - loss: 0.5125 - acc: 0.8041\n",
            "Epoch 44/50\n",
            "104/104 [==============================] - 17s 160ms/step - loss: 0.5013 - acc: 0.8076\n",
            "Epoch 45/50\n",
            "104/104 [==============================] - 17s 160ms/step - loss: 0.5008 - acc: 0.8042\n",
            "Epoch 46/50\n",
            "104/104 [==============================] - 17s 161ms/step - loss: 0.4862 - acc: 0.8213\n",
            "Epoch 47/50\n",
            "104/104 [==============================] - 17s 162ms/step - loss: 0.4779 - acc: 0.8165\n",
            "Epoch 48/50\n",
            "104/104 [==============================] - 17s 162ms/step - loss: 0.4720 - acc: 0.8198\n",
            "Epoch 49/50\n",
            "104/104 [==============================] - 17s 161ms/step - loss: 0.4668 - acc: 0.8243\n",
            "Epoch 50/50\n",
            "104/104 [==============================] - 17s 161ms/step - loss: 0.4922 - acc: 0.8133\n",
            "Score for fold 1: loss of 0.7857247591018677; acc of 71.80081009864807%\n",
            "------------------------------------------------------------------------\n",
            "Training for fold 2 ...\n",
            "Epoch 1/50\n",
            "104/104 [==============================] - 18s 160ms/step - loss: 1.4601 - acc: 0.3306\n",
            "Epoch 2/50\n",
            "104/104 [==============================] - 17s 160ms/step - loss: 1.2168 - acc: 0.4653\n",
            "Epoch 3/50\n",
            "104/104 [==============================] - 17s 160ms/step - loss: 1.1620 - acc: 0.5092\n",
            "Epoch 4/50\n",
            "104/104 [==============================] - 16s 159ms/step - loss: 1.0583 - acc: 0.5589\n",
            "Epoch 5/50\n",
            "104/104 [==============================] - 17s 159ms/step - loss: 1.0239 - acc: 0.5819\n",
            "Epoch 6/50\n",
            "104/104 [==============================] - 17s 160ms/step - loss: 0.9896 - acc: 0.5800\n",
            "Epoch 7/50\n",
            "104/104 [==============================] - 17s 161ms/step - loss: 0.9539 - acc: 0.6213\n",
            "Epoch 8/50\n",
            "104/104 [==============================] - 17s 160ms/step - loss: 0.9055 - acc: 0.6327\n",
            "Epoch 9/50\n",
            "104/104 [==============================] - 17s 161ms/step - loss: 0.9245 - acc: 0.6338\n",
            "Epoch 10/50\n",
            "104/104 [==============================] - 17s 161ms/step - loss: 0.8579 - acc: 0.6664\n",
            "Epoch 11/50\n",
            "104/104 [==============================] - 17s 161ms/step - loss: 0.8558 - acc: 0.6690\n",
            "Epoch 12/50\n",
            "104/104 [==============================] - 17s 161ms/step - loss: 0.8056 - acc: 0.6885\n",
            "Epoch 13/50\n",
            "104/104 [==============================] - 17s 160ms/step - loss: 0.7902 - acc: 0.6938\n",
            "Epoch 14/50\n",
            "104/104 [==============================] - 17s 160ms/step - loss: 0.7832 - acc: 0.6950\n",
            "Epoch 15/50\n",
            "104/104 [==============================] - 17s 160ms/step - loss: 0.7713 - acc: 0.6930\n",
            "Epoch 16/50\n",
            "104/104 [==============================] - 17s 161ms/step - loss: 0.7437 - acc: 0.7036\n",
            "Epoch 17/50\n",
            "104/104 [==============================] - 17s 162ms/step - loss: 0.7116 - acc: 0.7192\n",
            "Epoch 18/50\n",
            "104/104 [==============================] - 17s 161ms/step - loss: 0.7125 - acc: 0.7214\n",
            "Epoch 19/50\n",
            "104/104 [==============================] - 17s 161ms/step - loss: 0.6994 - acc: 0.7267\n",
            "Epoch 20/50\n",
            "104/104 [==============================] - 17s 162ms/step - loss: 0.6650 - acc: 0.7416\n",
            "Epoch 21/50\n",
            "104/104 [==============================] - 17s 162ms/step - loss: 0.6810 - acc: 0.7308\n",
            "Epoch 22/50\n",
            "104/104 [==============================] - 17s 162ms/step - loss: 0.6485 - acc: 0.7475\n",
            "Epoch 23/50\n",
            "104/104 [==============================] - 17s 162ms/step - loss: 0.6716 - acc: 0.7427\n",
            "Epoch 24/50\n",
            "104/104 [==============================] - 17s 161ms/step - loss: 0.6298 - acc: 0.7441\n",
            "Epoch 25/50\n",
            "104/104 [==============================] - 17s 161ms/step - loss: 0.6369 - acc: 0.7533\n",
            "Epoch 26/50\n",
            "104/104 [==============================] - 17s 160ms/step - loss: 0.6271 - acc: 0.7492\n",
            "Epoch 27/50\n",
            "104/104 [==============================] - 17s 162ms/step - loss: 0.5987 - acc: 0.7693\n",
            "Epoch 28/50\n",
            "104/104 [==============================] - 17s 162ms/step - loss: 0.5946 - acc: 0.7697\n",
            "Epoch 29/50\n",
            "104/104 [==============================] - 17s 161ms/step - loss: 0.5874 - acc: 0.7782\n",
            "Epoch 30/50\n",
            "104/104 [==============================] - 17s 161ms/step - loss: 0.5878 - acc: 0.7772\n",
            "Epoch 31/50\n",
            "104/104 [==============================] - 17s 161ms/step - loss: 0.5791 - acc: 0.7809\n",
            "Epoch 32/50\n",
            "104/104 [==============================] - 17s 160ms/step - loss: 0.5569 - acc: 0.7839\n",
            "Epoch 33/50\n",
            "104/104 [==============================] - 17s 160ms/step - loss: 0.5578 - acc: 0.7827\n",
            "Epoch 34/50\n",
            "104/104 [==============================] - 17s 161ms/step - loss: 0.6215 - acc: 0.7541\n",
            "Epoch 35/50\n",
            "104/104 [==============================] - 17s 162ms/step - loss: 0.5734 - acc: 0.7737\n",
            "Epoch 36/50\n",
            "104/104 [==============================] - 17s 161ms/step - loss: 0.5207 - acc: 0.8056\n",
            "Epoch 37/50\n",
            "104/104 [==============================] - 17s 161ms/step - loss: 0.5340 - acc: 0.7957\n",
            "Epoch 38/50\n",
            "104/104 [==============================] - 17s 161ms/step - loss: 0.5392 - acc: 0.7963\n",
            "Epoch 39/50\n",
            "104/104 [==============================] - 17s 162ms/step - loss: 0.5322 - acc: 0.7896\n",
            "Epoch 40/50\n",
            "104/104 [==============================] - 17s 161ms/step - loss: 0.5166 - acc: 0.7967\n",
            "Epoch 41/50\n",
            "104/104 [==============================] - 17s 161ms/step - loss: 0.5265 - acc: 0.7942\n",
            "Epoch 42/50\n",
            "104/104 [==============================] - 17s 161ms/step - loss: 0.5202 - acc: 0.7970\n",
            "Epoch 43/50\n",
            "104/104 [==============================] - 17s 161ms/step - loss: 0.4767 - acc: 0.8129\n",
            "Epoch 44/50\n",
            "104/104 [==============================] - 17s 161ms/step - loss: 0.5102 - acc: 0.7975\n",
            "Epoch 45/50\n",
            "104/104 [==============================] - 17s 161ms/step - loss: 0.4957 - acc: 0.8057\n",
            "Epoch 46/50\n",
            "104/104 [==============================] - 17s 161ms/step - loss: 0.4747 - acc: 0.8122\n",
            "Epoch 47/50\n",
            "104/104 [==============================] - 17s 161ms/step - loss: 0.4912 - acc: 0.8141\n",
            "Epoch 48/50\n",
            "104/104 [==============================] - 17s 161ms/step - loss: 0.4707 - acc: 0.8202\n",
            "Epoch 49/50\n",
            "104/104 [==============================] - 17s 161ms/step - loss: 0.4753 - acc: 0.8201\n",
            "Epoch 50/50\n",
            "104/104 [==============================] - 17s 161ms/step - loss: 0.4617 - acc: 0.8167\n",
            "Score for fold 2: loss of 0.8086195588111877; acc of 72.26403951644897%\n",
            "------------------------------------------------------------------------\n",
            "Training for fold 3 ...\n",
            "Epoch 1/50\n",
            "104/104 [==============================] - 18s 162ms/step - loss: 1.5409 - acc: 0.2827\n",
            "Epoch 2/50\n",
            "104/104 [==============================] - 17s 162ms/step - loss: 1.2216 - acc: 0.4654\n",
            "Epoch 3/50\n",
            "104/104 [==============================] - 17s 161ms/step - loss: 1.1241 - acc: 0.5447\n",
            "Epoch 4/50\n",
            "104/104 [==============================] - 17s 162ms/step - loss: 1.0418 - acc: 0.5747\n",
            "Epoch 5/50\n",
            "104/104 [==============================] - 17s 163ms/step - loss: 1.0048 - acc: 0.5975\n",
            "Epoch 6/50\n",
            "104/104 [==============================] - 17s 161ms/step - loss: 0.9372 - acc: 0.6324\n",
            "Epoch 7/50\n",
            "104/104 [==============================] - 17s 162ms/step - loss: 0.9502 - acc: 0.6226\n",
            "Epoch 8/50\n",
            "104/104 [==============================] - 17s 162ms/step - loss: 0.9135 - acc: 0.6363\n",
            "Epoch 9/50\n",
            "104/104 [==============================] - 17s 162ms/step - loss: 0.8598 - acc: 0.6613\n",
            "Epoch 10/50\n",
            "104/104 [==============================] - 17s 162ms/step - loss: 0.8340 - acc: 0.6669\n",
            "Epoch 11/50\n",
            "104/104 [==============================] - 17s 162ms/step - loss: 0.8134 - acc: 0.6844\n",
            "Epoch 12/50\n",
            "104/104 [==============================] - 17s 161ms/step - loss: 0.7961 - acc: 0.6746\n",
            "Epoch 13/50\n",
            "104/104 [==============================] - 17s 162ms/step - loss: 0.7894 - acc: 0.6951\n",
            "Epoch 14/50\n",
            "104/104 [==============================] - 17s 162ms/step - loss: 0.7717 - acc: 0.7051\n",
            "Epoch 15/50\n",
            "104/104 [==============================] - 17s 163ms/step - loss: 0.7471 - acc: 0.7093\n",
            "Epoch 16/50\n",
            "104/104 [==============================] - 17s 162ms/step - loss: 0.7429 - acc: 0.7076\n",
            "Epoch 17/50\n",
            "104/104 [==============================] - 17s 161ms/step - loss: 0.7032 - acc: 0.7195\n",
            "Epoch 18/50\n",
            "104/104 [==============================] - 17s 162ms/step - loss: 0.6995 - acc: 0.7209\n",
            "Epoch 19/50\n",
            "104/104 [==============================] - 17s 162ms/step - loss: 0.7161 - acc: 0.7165\n",
            "Epoch 20/50\n",
            "104/104 [==============================] - 17s 161ms/step - loss: 0.6603 - acc: 0.7375\n",
            "Epoch 21/50\n",
            "104/104 [==============================] - 17s 161ms/step - loss: 0.6618 - acc: 0.7300\n",
            "Epoch 22/50\n",
            "104/104 [==============================] - 17s 160ms/step - loss: 0.6240 - acc: 0.7604\n",
            "Epoch 23/50\n",
            "104/104 [==============================] - 17s 160ms/step - loss: 0.6486 - acc: 0.7374\n",
            "Epoch 24/50\n",
            "104/104 [==============================] - 17s 161ms/step - loss: 0.6570 - acc: 0.7403\n",
            "Epoch 25/50\n",
            "104/104 [==============================] - 17s 163ms/step - loss: 0.5976 - acc: 0.7625\n",
            "Epoch 26/50\n",
            "104/104 [==============================] - 17s 162ms/step - loss: 0.6183 - acc: 0.7602\n",
            "Epoch 27/50\n",
            "104/104 [==============================] - 17s 163ms/step - loss: 0.6060 - acc: 0.7645\n",
            "Epoch 28/50\n",
            "104/104 [==============================] - 17s 163ms/step - loss: 0.6006 - acc: 0.7669\n",
            "Epoch 29/50\n",
            "104/104 [==============================] - 17s 165ms/step - loss: 0.6019 - acc: 0.7661\n",
            "Epoch 30/50\n",
            "104/104 [==============================] - 17s 165ms/step - loss: 0.5837 - acc: 0.7731\n",
            "Epoch 31/50\n",
            "104/104 [==============================] - 17s 163ms/step - loss: 0.5592 - acc: 0.7880\n",
            "Epoch 32/50\n",
            "104/104 [==============================] - 17s 165ms/step - loss: 0.5624 - acc: 0.7760\n",
            "Epoch 33/50\n",
            "104/104 [==============================] - 17s 164ms/step - loss: 0.5175 - acc: 0.7982\n",
            "Epoch 34/50\n",
            "104/104 [==============================] - 17s 164ms/step - loss: 0.5376 - acc: 0.7824\n",
            "Epoch 35/50\n",
            "104/104 [==============================] - 17s 163ms/step - loss: 0.5234 - acc: 0.8063\n",
            "Epoch 36/50\n",
            "104/104 [==============================] - 17s 164ms/step - loss: 0.5253 - acc: 0.7973\n",
            "Epoch 37/50\n",
            "104/104 [==============================] - 17s 163ms/step - loss: 0.5161 - acc: 0.7942\n",
            "Epoch 38/50\n",
            "104/104 [==============================] - 17s 164ms/step - loss: 0.5015 - acc: 0.8081\n",
            "Epoch 39/50\n",
            "104/104 [==============================] - 17s 163ms/step - loss: 0.5232 - acc: 0.7986\n",
            "Epoch 40/50\n",
            "104/104 [==============================] - 17s 165ms/step - loss: 0.5264 - acc: 0.7987\n",
            "Epoch 41/50\n",
            "104/104 [==============================] - 17s 165ms/step - loss: 0.5064 - acc: 0.8065\n",
            "Epoch 42/50\n",
            "104/104 [==============================] - 17s 164ms/step - loss: 0.5150 - acc: 0.8037\n",
            "Epoch 43/50\n",
            "104/104 [==============================] - 17s 163ms/step - loss: 0.4989 - acc: 0.8181\n",
            "Epoch 44/50\n",
            "104/104 [==============================] - 17s 164ms/step - loss: 0.4826 - acc: 0.8154\n",
            "Epoch 45/50\n",
            "104/104 [==============================] - 17s 164ms/step - loss: 0.4831 - acc: 0.8166\n",
            "Epoch 46/50\n",
            "104/104 [==============================] - 17s 165ms/step - loss: 0.4966 - acc: 0.8038\n",
            "Epoch 47/50\n",
            "104/104 [==============================] - 17s 164ms/step - loss: 0.4837 - acc: 0.8135\n",
            "Epoch 48/50\n",
            "104/104 [==============================] - 17s 165ms/step - loss: 0.4548 - acc: 0.8207\n",
            "Epoch 49/50\n",
            "104/104 [==============================] - 17s 164ms/step - loss: 0.4455 - acc: 0.8268\n",
            "Epoch 50/50\n",
            "104/104 [==============================] - 17s 164ms/step - loss: 0.4578 - acc: 0.8309\n",
            "Score for fold 3: loss of 0.7932685613632202; acc of 72.43775129318237%\n",
            "------------------------------------------------------------------------\n",
            "Training for fold 4 ...\n",
            "Epoch 1/50\n",
            "104/104 [==============================] - 18s 160ms/step - loss: 1.4867 - acc: 0.3237\n",
            "Epoch 2/50\n",
            "104/104 [==============================] - 17s 159ms/step - loss: 1.2011 - acc: 0.4898\n",
            "Epoch 3/50\n",
            "104/104 [==============================] - 17s 159ms/step - loss: 1.1271 - acc: 0.5389\n",
            "Epoch 4/50\n",
            "104/104 [==============================] - 17s 160ms/step - loss: 1.0505 - acc: 0.5652\n",
            "Epoch 5/50\n",
            "104/104 [==============================] - 17s 160ms/step - loss: 0.9824 - acc: 0.6112\n",
            "Epoch 6/50\n",
            "104/104 [==============================] - 17s 162ms/step - loss: 0.9778 - acc: 0.6192\n",
            "Epoch 7/50\n",
            "104/104 [==============================] - 17s 161ms/step - loss: 0.9398 - acc: 0.6294\n",
            "Epoch 8/50\n",
            "104/104 [==============================] - 17s 161ms/step - loss: 0.9063 - acc: 0.6380\n",
            "Epoch 9/50\n",
            "104/104 [==============================] - 17s 161ms/step - loss: 0.8552 - acc: 0.6650\n",
            "Epoch 10/50\n",
            "104/104 [==============================] - 17s 162ms/step - loss: 0.8369 - acc: 0.6802\n",
            "Epoch 11/50\n",
            "104/104 [==============================] - 17s 161ms/step - loss: 0.8085 - acc: 0.6830\n",
            "Epoch 12/50\n",
            "104/104 [==============================] - 17s 161ms/step - loss: 0.7958 - acc: 0.6919\n",
            "Epoch 13/50\n",
            "104/104 [==============================] - 17s 161ms/step - loss: 0.7734 - acc: 0.7109\n",
            "Epoch 14/50\n",
            "104/104 [==============================] - 17s 161ms/step - loss: 0.7604 - acc: 0.6985\n",
            "Epoch 15/50\n",
            "104/104 [==============================] - 17s 160ms/step - loss: 0.7639 - acc: 0.7053\n",
            "Epoch 16/50\n",
            "104/104 [==============================] - 17s 160ms/step - loss: 0.7133 - acc: 0.7172\n",
            "Epoch 17/50\n",
            "104/104 [==============================] - 17s 161ms/step - loss: 0.6969 - acc: 0.7231\n",
            "Epoch 18/50\n",
            "104/104 [==============================] - 17s 161ms/step - loss: 0.6825 - acc: 0.7331\n",
            "Epoch 19/50\n",
            "104/104 [==============================] - 17s 160ms/step - loss: 0.6444 - acc: 0.7501\n",
            "Epoch 20/50\n",
            "104/104 [==============================] - 17s 160ms/step - loss: 0.6618 - acc: 0.7416\n",
            "Epoch 21/50\n",
            "104/104 [==============================] - 17s 160ms/step - loss: 0.6518 - acc: 0.7491\n",
            "Epoch 22/50\n",
            "104/104 [==============================] - 17s 161ms/step - loss: 0.6289 - acc: 0.7641\n",
            "Epoch 23/50\n",
            "104/104 [==============================] - 17s 160ms/step - loss: 0.6451 - acc: 0.7548\n",
            "Epoch 24/50\n",
            "104/104 [==============================] - 17s 159ms/step - loss: 0.6202 - acc: 0.7643\n",
            "Epoch 25/50\n",
            "104/104 [==============================] - 17s 159ms/step - loss: 0.6191 - acc: 0.7674\n",
            "Epoch 26/50\n",
            "104/104 [==============================] - 17s 159ms/step - loss: 0.5622 - acc: 0.7799\n",
            "Epoch 27/50\n",
            "104/104 [==============================] - 17s 160ms/step - loss: 0.5842 - acc: 0.7760\n",
            "Epoch 28/50\n",
            "104/104 [==============================] - 17s 160ms/step - loss: 0.5700 - acc: 0.7843\n",
            "Epoch 29/50\n",
            "104/104 [==============================] - 17s 160ms/step - loss: 0.5644 - acc: 0.7812\n",
            "Epoch 30/50\n",
            "104/104 [==============================] - 17s 162ms/step - loss: 0.5319 - acc: 0.7980\n",
            "Epoch 31/50\n",
            "104/104 [==============================] - 17s 168ms/step - loss: 0.5334 - acc: 0.8004\n",
            "Epoch 32/50\n",
            "104/104 [==============================] - 18s 172ms/step - loss: 0.5251 - acc: 0.7988\n",
            "Epoch 33/50\n",
            "104/104 [==============================] - 18s 176ms/step - loss: 0.4855 - acc: 0.8172\n",
            "Epoch 34/50\n",
            "104/104 [==============================] - 19s 179ms/step - loss: 0.5348 - acc: 0.7873\n",
            "Epoch 35/50\n",
            "104/104 [==============================] - 18s 171ms/step - loss: 0.5219 - acc: 0.8035\n",
            "Epoch 36/50\n",
            "104/104 [==============================] - 17s 163ms/step - loss: 0.5518 - acc: 0.7895\n",
            "Epoch 37/50\n",
            "104/104 [==============================] - 17s 162ms/step - loss: 0.5181 - acc: 0.8087\n",
            "Epoch 38/50\n",
            "104/104 [==============================] - 17s 168ms/step - loss: 0.4924 - acc: 0.8076\n",
            "Epoch 39/50\n",
            "104/104 [==============================] - 17s 163ms/step - loss: 0.4710 - acc: 0.8221\n",
            "Epoch 40/50\n",
            "104/104 [==============================] - 17s 164ms/step - loss: 0.4604 - acc: 0.8211\n",
            "Epoch 41/50\n",
            "104/104 [==============================] - 17s 166ms/step - loss: 0.4755 - acc: 0.8199\n",
            "Epoch 42/50\n",
            "104/104 [==============================] - 17s 166ms/step - loss: 0.4797 - acc: 0.8134\n",
            "Epoch 43/50\n",
            "104/104 [==============================] - 17s 166ms/step - loss: 0.4654 - acc: 0.8213\n",
            "Epoch 44/50\n",
            "104/104 [==============================] - 17s 164ms/step - loss: 0.4717 - acc: 0.8233\n",
            "Epoch 45/50\n",
            "104/104 [==============================] - 17s 164ms/step - loss: 0.4568 - acc: 0.8321\n",
            "Epoch 46/50\n",
            "104/104 [==============================] - 17s 163ms/step - loss: 0.4377 - acc: 0.8353\n",
            "Epoch 47/50\n",
            "104/104 [==============================] - 17s 162ms/step - loss: 0.4101 - acc: 0.8513\n",
            "Epoch 48/50\n",
            "104/104 [==============================] - 17s 163ms/step - loss: 0.4422 - acc: 0.8341\n",
            "Epoch 49/50\n",
            "104/104 [==============================] - 17s 162ms/step - loss: 0.4418 - acc: 0.8299\n",
            "Epoch 50/50\n",
            "104/104 [==============================] - 17s 162ms/step - loss: 0.4733 - acc: 0.8165\n",
            "Score for fold 4: loss of 0.7768675088882446; acc of 73.34878444671631%\n",
            "------------------------------------------------------------------------\n",
            "Score per fold\n",
            "------------------------------------------------------------------------\n",
            "> Fold 1 - Loss: 0.7857247591018677 - Accuracy: 71.80081009864807%\n",
            "------------------------------------------------------------------------\n",
            "> Fold 2 - Loss: 0.8086195588111877 - Accuracy: 72.26403951644897%\n",
            "------------------------------------------------------------------------\n",
            "> Fold 3 - Loss: 0.7932685613632202 - Accuracy: 72.43775129318237%\n",
            "------------------------------------------------------------------------\n",
            "> Fold 4 - Loss: 0.7768675088882446 - Accuracy: 73.34878444671631%\n",
            "------------------------------------------------------------------------\n",
            "Average scores for all folds:\n",
            "> Accuracy: 72.46284633874893 (+- 0.5619902642085302)\n",
            "> Loss: 0.7911200970411301\n",
            "------------------------------------------------------------------------\n"
          ],
          "name": "stdout"
        }
      ]
    },
    {
      "cell_type": "code",
      "metadata": {
        "id": "UOVbUXyzTbnq"
      },
      "source": [
        "from tensorflow.keras.models import Sequential, save_model, load_model\n",
        "# Save the model\n",
        "filepath = '/content/my_model/saved_model'\n",
        "save_model(model_flower, filepath, save_format='h5')"
      ],
      "execution_count": 14,
      "outputs": []
    },
    {
      "cell_type": "code",
      "metadata": {
        "id": "JaDl46OhS3J8"
      },
      "source": [
        "# Load the model\n",
        "loaded_model = load_model(\n",
        "    filepath,\n",
        "    custom_objects=None,\n",
        "    compile=True\n",
        ")"
      ],
      "execution_count": 15,
      "outputs": []
    },
    {
      "cell_type": "code",
      "metadata": {
        "colab": {
          "base_uri": "https://localhost:8080/"
        },
        "id": "N7dtZGe-ZQ1Z",
        "outputId": "4c020c39-5d6b-4126-cd89-d15a5da731df"
      },
      "source": [
        "model_flower.evaluate(X_test1,y_test_one_hot)"
      ],
      "execution_count": 17,
      "outputs": [
        {
          "output_type": "stream",
          "text": [
            "54/54 [==============================] - 1s 24ms/step - loss: 0.7702 - acc: 0.7441\n"
          ],
          "name": "stdout"
        },
        {
          "output_type": "execute_result",
          "data": {
            "text/plain": [
              "[0.7702329754829407, 0.7440648674964905]"
            ]
          },
          "metadata": {
            "tags": []
          },
          "execution_count": 17
        }
      ]
    },
    {
      "cell_type": "code",
      "metadata": {
        "colab": {
          "resources": {
            "http://localhost:8080/nbextensions/google.colab/files.js": {
              "data": "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",
              "ok": true,
              "headers": [
                [
                  "content-type",
                  "application/javascript"
                ]
              ],
              "status": 200,
              "status_text": ""
            }
          },
          "base_uri": "https://localhost:8080/",
          "height": 73
        },
        "id": "1T5bin-QPMuz",
        "outputId": "283f5bf8-4917-431f-8202-972a2504dac1"
      },
      "source": [
        "#Let’s test the model by loading a new image.\n",
        "from google.colab import files\n",
        "uploaded=files.upload()"
      ],
      "execution_count": 18,
      "outputs": [
        {
          "output_type": "display_data",
          "data": {
            "text/html": [
              "\n",
              "     <input type=\"file\" id=\"files-6e434a84-6b39-4d67-9e3b-95476694fe8a\" name=\"files[]\" multiple disabled\n",
              "        style=\"border:none\" />\n",
              "     <output id=\"result-6e434a84-6b39-4d67-9e3b-95476694fe8a\">\n",
              "      Upload widget is only available when the cell has been executed in the\n",
              "      current browser session. Please rerun this cell to enable.\n",
              "      </output>\n",
              "      <script src=\"/nbextensions/google.colab/files.js\"></script> "
            ],
            "text/plain": [
              "<IPython.core.display.HTML object>"
            ]
          },
          "metadata": {
            "tags": []
          }
        },
        {
          "output_type": "stream",
          "text": [
            "Saving redrose.jpg to redrose.jpg\n"
          ],
          "name": "stdout"
        }
      ]
    },
    {
      "cell_type": "code",
      "metadata": {
        "colab": {
          "base_uri": "https://localhost:8080/",
          "height": 350
        },
        "id": "iFUbyH-WPWCG",
        "outputId": "e88b1441-5926-45a1-cf86-3c3a92a4c5f3"
      },
      "source": [
        "new_image=plt.imread(\"/content/redrose.jpg\")\n",
        "plt.imshow(new_image)\n",
        "from skimage.transform import resize\n",
        "import numpy as np\n",
        "new_resize=resize(new_image,(32,32,3))\n",
        "plt.imshow(new_resize)\n",
        "probabilities=loaded_model.predict(np.array([new_resize,]))\n",
        "i=0\n",
        "for i in range(5):\n",
        "  print(folders[i],':',round(probabilities[0][i]*100,2),\"%\")"
      ],
      "execution_count": 19,
      "outputs": [
        {
          "output_type": "stream",
          "text": [
            "daisy : 0.01 %\n",
            "dandelion : 0.01 %\n",
            "rose : 98.43 %\n",
            "sunflower : 0.0 %\n",
            "tulip : 1.55 %\n"
          ],
          "name": "stdout"
        },
        {
          "output_type": "display_data",
          "data": {
            "image/png": "[encoded data removed]",
            "text/plain": [
              "<Figure size 432x288 with 1 Axes>"
            ]
          },
          "metadata": {
            "tags": [],
            "needs_background": "light"
          }
        }
      ]
    },
    {
      "cell_type": "code",
      "metadata": {
        "colab": {
          "base_uri": "https://localhost:8080/",
          "height": 513
        },
        "id": "9toFBQ6bPb-C",
        "outputId": "a2a2f7b7-e46b-4e91-f244-6923ddffc403"
      },
      "source": [
        "from sklearn.metrics import confusion_matrix\n",
        "import seaborn as sns\n",
        "y_pred=model_flower.predict(X_test1)\n",
        "y_pred_classes=np.argmax(y_pred,axis=1)\n",
        "y_true=np.argmax(y_test_one_hot,axis=1)\n",
        "confusion_mtx=confusion_matrix(y_true,y_pred_classes)\n",
        "f,ax=plt.subplots(figsize=(8,8))\n",
        "sns.heatmap(confusion_mtx,annot=True,linewidths = 0.01,cmap=\"Reds\",\n",
        "            linecolor = \"gray\",fmt = \".2f\",ax=ax\n",
        "            )\n",
        "plt.xlabel(\"predicted label\")\n",
        "plt.ylabel(\"True Label\")\n",
        "plt.title(\"confusion matrix\")\n",
        "plt.show()\n",
        "#where 0='daisy',1='dandelion',2='rose',3='sunflower',4='tulip']\n"
      ],
      "execution_count": 20,
      "outputs": [
        {
          "output_type": "display_data",
          "data": {
            "image/png": "[encoded data removed]",
            "text/plain": [
              "<Figure size 576x576 with 2 Axes>"
            ]
          },
          "metadata": {
            "tags": [],
            "needs_background": "light"
          }
        }
      ]
    }
  ]
}